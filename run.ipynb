{
 "cells": [
  {
   "attachments": {},
   "cell_type": "markdown",
   "metadata": {},
   "source": [
    "# CS-433 Machine learning project 1"
   ]
  },
  {
   "cell_type": "code",
   "execution_count": 155,
   "metadata": {},
   "outputs": [
    {
     "name": "stdout",
     "output_type": "stream",
     "text": [
      "The autoreload extension is already loaded. To reload it, use:\n",
      "  %reload_ext autoreload\n"
     ]
    }
   ],
   "source": [
    "import numpy as np\n",
    "import matplotlib.pyplot as plt\n",
    "import helpers\n",
    "from functions import *\n",
    "\n",
    "%load_ext autoreload\n",
    "%autoreload 2"
   ]
  },
  {
   "cell_type": "code",
   "execution_count": 156,
   "metadata": {},
   "outputs": [],
   "source": [
    "# x_train = np.genfromtxt(\"data/dataset/x_train.csv\", delimiter=',', skip_header=1)\n",
    "# y_train = np.genfromtxt(\"data/dataset/y_train.csv\", delimiter=',', skip_header=1)\n",
    "# x_test =  np.genfromtxt(\"data/dataset/x_test.csv\", delimiter=',', skip_header=1)\n",
    "x_train, x_test, y_train, train_ids, test_ids = helpers.load_csv_data(\"data/dataset\", sub_sample=False)"
   ]
  },
  {
   "cell_type": "code",
   "execution_count": 157,
   "metadata": {},
   "outputs": [
    {
     "name": "stdout",
     "output_type": "stream",
     "text": [
      "[2015. 2015. 2015. ... 2015. 2015. 2015.]\n",
      "float64\n",
      "False\n",
      "139415\n",
      "[-1 -1 -1 ... -1 -1 -1]\n"
     ]
    }
   ],
   "source": [
    "print(x_train[:,5])\n",
    "print(x_train[0,5].dtype)\n",
    "print(np.isnan(x_train[0,5]))\n",
    "print(np.sum(np.isnan(x_train[:,10])))\n",
    "print(y_train)"
   ]
  },
  {
   "attachments": {},
   "cell_type": "markdown",
   "metadata": {},
   "source": [
    "## Nan handling"
   ]
  },
  {
   "cell_type": "code",
   "execution_count": 158,
   "metadata": {},
   "outputs": [
    {
     "name": "stdout",
     "output_type": "stream",
     "text": [
      "[     0      0      0      0      0      0      0      0      0 139415\n",
      " 139415 328103 139416 139415 328103 139433 139524 139525 188720 188720\n",
      " 188721 188720 327334 188719 189287 192544      2      1      0 159860\n",
      "      0      0      1      1      1 196334      0  43801  43801      0\n",
      "      0 284153      1      0      0      1      0      0      5 285915\n",
      "      0      0      0      0 139415 318245 139415      1      0      3\n",
      "   2471   3207   3946   4407 279663   6933   7743   8293   8728   9149\n",
      "   9432   9862  10541 191379 282510 237369  11007  11765 170906 171212\n",
      " 171522  20738  21567  22468  23149  23759  24502  26205 107829 109141\n",
      " 109407 109690 181261 181400  28647 226907 227043 227197 229088  29911\n",
      "  30600 186763 186001  31022  32080 243418 243561 266689 266689 306425\n",
      " 306426 306428 306429 306429 306629 306429 306430 306430 247299 310302\n",
      " 310320 310346 310367 310392 310403 310450 265347 325762 325769 325769\n",
      " 327339 326264 325775 325777 325777 325780 241493 318477 318489 325051\n",
      " 318505 318515 297518 309300 297543 327354 327645 327907 327907 327648\n",
      " 327648 327649 327793 327650 327650 327362 327618 314089 318284 323942\n",
      " 323941 323942 313550 313560 313564 313572 298044 320046 327036 307336\n",
      " 311136 314308 311142 312277 311151 322950 311321 323914 324421 287897\n",
      " 313435 287921 298973 298976 323261 323267 323272 323272 325495 325498\n",
      " 327539 327956 276513 273642 302161 302172 309175 299744 203924 203990\n",
      " 283588 283743 289046 323324 313056 313066 312994 313007 313014 313018\n",
      " 313027 313032 313044 313055 313067 313074      0     14 142438      0\n",
      "     22      0      0  90436 279532 279532 283603      0 123084      0\n",
      "      0      0      0      0  43801      0      0      0   1883      0\n",
      "      0      0      0      0      0   5438      0      0      0      0\n",
      "  12721  11368  23006  27073  27073      0      0      0      0      0\n",
      "      0      0      0      0      0      0  28366  26927  29382  27893\n",
      "  28958  30593      0      0      0      0  32115  37605      0      0\n",
      "      0      0      0      0      0 108727 112425      0      0 111072\n",
      " 114698 113793 184643 111257 182913 115152 116821  32496      0 117355\n",
      " 119004 112859 113785 117012 111793      0      0      0      0      0\n",
      "      0      0      0   1883   1883   1883      0      0 211378 211378\n",
      "  32080]\n",
      "146965.04361370715\n",
      "(321,)\n",
      "321\n"
     ]
    }
   ],
   "source": [
    "\n",
    "#calculate number number of nan per column\n",
    "logical_matrix = np.isnan(x_train)\n",
    "nan_per_columns = np.sum(logical_matrix, axis=0)\n",
    "print(nan_per_columns)\n",
    "average_nan = np.mean(nan_per_columns)\n",
    "print(average_nan)\n",
    "print(np.shape(nan_per_columns))\n",
    "print(np.shape(x_train)[1])"
   ]
  },
  {
   "cell_type": "code",
   "execution_count": 159,
   "metadata": {},
   "outputs": [],
   "source": [
    "# delet the columns with more nan than the average\n",
    "x_train_reduced_features = x_train[:, nan_per_columns <= average_nan]\n",
    "\n",
    "\n"
   ]
  },
  {
   "cell_type": "code",
   "execution_count": 160,
   "metadata": {},
   "outputs": [
    {
     "name": "stdout",
     "output_type": "stream",
     "text": [
      "(328135, 321)\n"
     ]
    }
   ],
   "source": [
    "print(np.shape(x_train))"
   ]
  },
  {
   "cell_type": "code",
   "execution_count": 161,
   "metadata": {},
   "outputs": [
    {
     "name": "stdout",
     "output_type": "stream",
     "text": [
      "[0 0 0 0 0 0 0 0 0 0 0 0 0 0 0 0 0 0 0 0 0 0 0 0 0 0 0 0 0 0 0 0 0 0 0 0 0\n",
      " 0 0 0 0 0 0 0 0 0 0 0 0 0 0 0 0 0 0 0 0 0 0 0 0 0 0 0 0 0 0 0 0 0 0 0 0 0\n",
      " 0 0 0 0 0 0 0 0 0 0 0 0 0 0 0 0 0 0 0 0 0 0 0 0 0 0 0 0 0 0 0 0 0 0 0 0 0\n",
      " 0 0 0 0 0 0 0 0 0 0 0 0 0 0 0 0 0 0 0 0 0 0 0 0 0 0 0 0 0 0 0 0 0 0 0 0 0\n",
      " 0 0 0 0 0 0 0 0 0 0 0 0 0 0 0 0 0 0 0 0 0 0 0 0 0 0 0 0 0 0 0 0 0 0 0 0 0\n",
      " 0 0 0 0 0 0 0 0 0 0 0 0 0 0 0 0 0 0 0 0 0 0 0 0 0 0 0 0 0 0 0 0 0 0 0 0 0\n",
      " 0 0 0 0 0 0 0 0 0 0 0 0 0 0 0 0 0 0 0 0 0 0 0 0 0 0 0 0 0 0 0 0 0 0 0 0 0\n",
      " 0 0 0 0 0 0 0 0 0 0 0 0 0 0 0 0 0 0 0 0 0 0 0 0 0 0 0 0 0 0 0 0 0 0 0 0 0\n",
      " 0 0 0 0 0 0 0 0 0 0 0 0 0 0 0 0 0 0 0 0 0 0 0 0 0]\n"
     ]
    }
   ],
   "source": [
    "#replace nan values with the mean:\n",
    "x_train_w_mean = x_train\n",
    "for i in range( np.shape(x_train)[1]):\n",
    "    nan_entries = np.isnan(x_train[:,i])\n",
    "    mean = np.mean(x_train[~nan_entries,i])\n",
    "\n",
    "    nan_entries = np.isnan(x_train[:,i])\n",
    "\n",
    "    x_train_w_mean[nan_entries, i] = mean\n",
    "    \n",
    "logical_matrix = np.isnan(x_train_w_mean)\n",
    "nan_per_columns2 = np.sum(logical_matrix, axis=0)\n",
    "print(nan_per_columns2)\n",
    "\n",
    "\n",
    "\n"
   ]
  },
  {
   "cell_type": "code",
   "execution_count": 162,
   "metadata": {},
   "outputs": [
    {
     "name": "stdout",
     "output_type": "stream",
     "text": [
      "[[ 1.43629640e+00  1.33036073e+00  1.31787257e+00 ... -4.98941290e-12\n",
      "   2.63592491e-12  2.44635873e-02]\n",
      " [ 1.88772178e-01  1.61711904e+00  1.60160179e+00 ... -4.98941290e-12\n",
      "   2.63592491e-12 -2.90142707e-13]\n",
      " [-6.22118565e-01  1.04360241e+00  1.04274121e+00 ... -8.59212775e-01\n",
      "  -2.46031587e-01  2.44635873e-02]\n",
      " ...\n",
      " [ 5.63029444e-01  1.04360241e+00  1.04274121e+00 ... -1.93109791e-01\n",
      "  -2.46031587e-01  2.44635873e-02]\n",
      " [ 1.88772178e-01  1.61711904e+00  1.64459107e+00 ... -4.98941290e-12\n",
      "   2.63592491e-12  2.44635873e-02]\n",
      " [ 1.26395967e-01  7.56844099e-01  7.33218431e-01 ... -4.98941290e-12\n",
      "   2.63592491e-12  2.44635873e-02]]\n"
     ]
    }
   ],
   "source": [
    "x_train_std, _, _, = standardize(x_train_w_mean)\n",
    "print(x_train_std)"
   ]
  },
  {
   "cell_type": "code",
   "execution_count": 163,
   "metadata": {},
   "outputs": [
    {
     "name": "stdout",
     "output_type": "stream",
     "text": [
      "(328135, 321)\n"
     ]
    }
   ],
   "source": [
    "\n",
    "\n",
    "print(np.shape(x_train_std))\n",
    "\n"
   ]
  },
  {
   "cell_type": "code",
   "execution_count": 164,
   "metadata": {},
   "outputs": [
    {
     "name": "stdout",
     "output_type": "stream",
     "text": [
      "There are 91.17 % minus ones.\n",
      "\n",
      "There are 8.83 % ones.\n",
      "\n"
     ]
    }
   ],
   "source": [
    "### Count the amount of incidents\n",
    "\n",
    "minus_ones = np.sum((y_train == -1))\n",
    "\n",
    "ones = np.sum(( y_train == 1))\n",
    "print(f\"There are {100*minus_ones/len(y_train):.2f} % minus ones.\\n\")\n",
    "print(f\"There are {100*ones/len(y_train):.2f} % ones.\\n\")"
   ]
  },
  {
   "cell_type": "code",
   "execution_count": 165,
   "metadata": {},
   "outputs": [
    {
     "name": "stdout",
     "output_type": "stream",
     "text": [
      "lambda =  0.001 | Accuracy moyenne : 0.08830207079403292 | Acc>0.75 : 0\n",
      "[0.08830207079403295, 0.08830207079403295, 0.08830207079403295, 0.08830207079403295, 0.08830207079403295, 0.08830207079403295, 0.08830207079403295, 0.08830207079403295, 0.08830207079403295, 0.08830207079403295, 0.08830207079403295, 0.08830207079403295, 0.08830207079403295, 0.08830207079403295, 0.08830207079403295, 0.08830207079403295, 0.08830207079403295, 0.08830207079403295, 0.08830207079403295, 0.08830207079403295, 0.08830207079403295, 0.08830207079403295, 0.08830207079403295, 0.08830207079403295, 0.08830207079403295, 0.08830207079403295, 0.08830207079403295, 0.08830207079403295, 0.08830207079403295, 0.08830207079403295, 0.08830207079403295, 0.08830207079403295, 0.08830207079403295, 0.08830207079403295, 0.08830207079403295, 0.08830207079403295, 0.08830207079403295, 0.08830207079403295, 0.08830207079403295, 0.08830207079403295, 0.08830207079403295, 0.08830207079403295, 0.08830207079403295, 0.08830207079403295, 0.08830207079403295, 0.08830207079403295, 0.08830207079403295, 0.08830207079403295, 0.08830207079403295, 0.08830207079403295]\n"
     ]
    }
   ],
   "source": [
    "tx = x_train_std[:, [10, 42, 69]] # change input data here\n",
    "y = y_train[:] # change target value here\n",
    "y = y.reshape(-1, 1)\n",
    "\n",
    "\n",
    "\n",
    "w_s=[]\n",
    "losses=[]\n",
    "w = np.full((tx.shape[1],1), 1e-16) \n",
    "\n",
    "max_iters=50\n",
    "accs=[]\n",
    "precs=[]\n",
    "recs=[]\n",
    "F1s=[]\n",
    "batch_size = 1 \n",
    "lambda_ = 1e-3\n",
    "gamma = 0.1\n",
    "#1) mean_squared_error_gd \n",
    "for i in range(max_iters):\n",
    "\n",
    "    #1) mean_squared_error_gd\n",
    "    #w, loss = mean_squared_error_gd(y, tx, w, max_iters, gamma)\n",
    "\n",
    "    #2) mean_squared_error_sgd\n",
    "    w, loss = mean_squared_error_sgd(y, tx, w, max_iters, gamma,  batch_size=128, num_batches=16) \n",
    "\n",
    "    #3) least_squares\n",
    "    #w, loss = least_squares(y, tx)  # change input data here, matrix is not invertible[10, 12, 14/15/20/69]\n",
    "\n",
    "    \"\"\" #4) ridge_regression\n",
    "    w, loss = ridge_regression(y, tx, lambda_)\n",
    "\n",
    "    #5) logistic_regression\n",
    "    w, loss = logistic_regression(y, tx, w, max_iters, gamma)\n",
    "\n",
    "    #6) reg_logistic_regression\n",
    "    w, loss = reg_logistic_regression(y, tx, w, max_iters, gamma, lambda_) \"\"\"\n",
    " \n",
    "    losses.append(loss)\n",
    "\n",
    " \n",
    "    y_pred=tx.dot(w)\n",
    "    y_pred = compute_sigmoid(y_pred)\n",
    "    y_pred[y_pred>0] = 1\n",
    "    y_pred[y_pred<=0] = -1\n",
    "    \n",
    "    TP = 0\n",
    "    FP = 0\n",
    "    TN = 0\n",
    "    FN = 0\n",
    "    for pred in range(len(y_pred)):\n",
    "        if (y_pred[pred] == 1 and y[pred] == 1):\n",
    "            TP+=1\n",
    "        elif (y_pred[pred] == 1 and y[pred] == -1):\n",
    "            FP+=1\n",
    "        elif (y_pred[pred] == -1 and y[pred] == 1):\n",
    "            FN+=1\n",
    "        else :\n",
    "            TN+=1\n",
    "    acc = (TP+TN)/len(y_pred)\n",
    "    if TP + FP == 0:\n",
    "        prec = 0  # Avoid division by zero\n",
    "    else:\n",
    "        prec = TP / (TP + FP)\n",
    "\n",
    "\n",
    "    if TP + FN == 0:\n",
    "        rec = 0  # Avoid division by zero\n",
    "    else:\n",
    "        rec = TP / (TP + FN)\n",
    "\n",
    "\n",
    "    if prec + rec == 0:\n",
    "        F1score = 0  # Avoid division by zero\n",
    "    else:\n",
    "        F1score = 2 * prec * rec / (prec + rec)\n",
    "\n",
    "\n",
    "    if acc > 0.75 :\n",
    "        w_s.append(w)\n",
    "\n",
    "    accs.append(acc)\n",
    "    precs.append(prec)\n",
    "    recs.append(recs)\n",
    "    F1s.append(F1score)\n",
    "    conf_matrix = np.array([[TP, FP], [FN, TN]])\n",
    "        \n",
    "w_s = np.asarray(w_s)\n",
    "print(\"lambda = \",lambda_,\"| Accuracy moyenne :\",np.mean(accs),\"| Acc>0.75 :\",w_s.shape[0])\n",
    "print(accs)\n",
    "\n"
   ]
  },
  {
   "cell_type": "code",
   "execution_count": 166,
   "metadata": {},
   "outputs": [
    {
     "data": {
      "image/png": "[encoded data removed]",
      "text/plain": [
       "<Figure size 640x480 with 1 Axes>"
      ]
     },
     "metadata": {},
     "output_type": "display_data"
    }
   ],
   "source": [
    "plt.figure()\n",
    "plt.plot(np.linspace(0, max_iters, max_iters), accs)\n",
    "plt.xlabel(\"Iterations\")\n",
    "plt.ylabel(\"Accuracy\")\n",
    "plt.show()"
   ]
  },
  {
   "cell_type": "code",
   "execution_count": 167,
   "metadata": {},
   "outputs": [],
   "source": [
    "x_test = handle_nan_values(x_test, delete_nan_columns=False)\n",
    "x_test, _, _  = standardize(x_test)\n",
    "\n",
    "\n"
   ]
  },
  {
   "cell_type": "code",
   "execution_count": 168,
   "metadata": {},
   "outputs": [
    {
     "name": "stdout",
     "output_type": "stream",
     "text": [
      "[0]\n",
      "[[-0.30974219]\n",
      " [-0.02709682]\n",
      " [-0.21678842]\n",
      " ...\n",
      " [-0.21678842]\n",
      " [-0.07949182]\n",
      " [-0.30974219]]\n"
     ]
    }
   ],
   "source": [
    "### Generate first submission\n",
    "\n",
    "y_test = x_test[:, [10, 42, 69]].dot(w)\n",
    "\n",
    "logical_matrix = np.isnan(y_test)\n",
    "nan_per_columns = np.sum(logical_matrix, axis=0)\n",
    "print(nan_per_columns)\n",
    "print(y_test)\n",
    "y_test = compute_sigmoid(y_test)\n",
    "\n",
    "y_test[y_test>0] = 1\n",
    "y_test[y_test<=0] = -1\n",
    "\n",
    "\n",
    "\n",
    "helpers.create_csv_submission(test_ids, y_test, \"AI_crowd_submission\")\n"
   ]
  },
  {
   "cell_type": "code",
   "execution_count": 177,
   "metadata": {},
   "outputs": [
    {
     "name": "stderr",
     "output_type": "stream",
     "text": [
      "/home/username/XD/Uni local/ML_Project1/functions.py:22: RuntimeWarning: overflow encountered in exp\n",
      "  sigmoid = 1/(1+np.exp(-x))\n",
      "/home/username/XD/Uni local/ML_Project1/functions.py:72: RuntimeWarning: overflow encountered in exp\n",
      "  return loss\n"
     ]
    }
   ],
   "source": [
    "N, D = x_train.shape\n",
    "\n",
    "# divide dataset into train and test data in order to test prediction on other data than was used for testing\n",
    "train_data_size = int(N/2)\n",
    "local_test_data_size = N - train_data_size\n",
    "\n",
    "tx = x_train_std[:train_data_size, :]\n",
    "y = y_train[:train_data_size]\n",
    "x_local_test = x_train_std[train_data_size:, :]\n",
    "y_local_test = y_train[train_data_size:]\n",
    "\n",
    "initial_w = np.full((D), 1e-2) \n",
    "\n",
    "max_iters=50\n",
    "batch_size = 1 \n",
    "gammas = np.arange(0.005, 0.3, 0.05)\n",
    "lambdas = np.arange(0.00005, 0.003, 0.0005)\n",
    "\n",
    "# Evaluate mean_squarred_error_gd\n",
    "if False:\n",
    "    accuracies = []\n",
    "    for gamma in gammas:\n",
    "        w, loss = mean_squared_error_gd(y, tx, initial_w, max_iters, gamma)\n",
    "        y_local_pred = predict_y(w, x_local_test)\n",
    "        local_test_accuracy = ( N - np.sum(y_local_test != y_local_pred) ) / N\n",
    "        accuracies.append(local_test_accuracy)\n",
    "        print(\"Local test accuracy of mean_squared_error_gd with gamma {:.4f} is {:.4f}\".format(gamma, local_test_accuracy))\n",
    "        print(\"loss is:\", loss)\n",
    "\n",
    "# Evaluate mean_squared_error_sgd\n",
    "if False:\n",
    "    accuracies = []\n",
    "    for gamma in gammas:\n",
    "        w, loss = mean_squared_error_sgd(y, tx, initial_w, max_iters, gamma, batch_size=128, num_batches=16)\n",
    "        y_local_pred = predict_y(w, x_local_test)\n",
    "        local_test_accuracy = ( N - np.sum(y_local_test != y_local_pred) ) / N\n",
    "        accuracies.append(local_test_accuracy)\n",
    "        print(\"Local test accuracy of mean_squared_error_sgd with gamma {:.4f} is {:.4f}\".format(gamma, local_test_accuracy))\n",
    "        print(\"loss is:\", loss)\n",
    "\n",
    "# Evaluate reg_logistic_regression\n",
    "if False:\n",
    "    accuracies = []\n",
    "    for gamma in gammas:\n",
    "        for lambda_ in lambdas:\n",
    "            w, loss = reg_logistic_regression(y, tx, initial_w, max_iters, gamma, lambda_)\n",
    "            y_local_pred = predict_y(w, x_local_test)\n",
    "            local_test_accuracy = ( N - np.sum(y_local_test != y_local_pred) ) / N\n",
    "            accuracies.append(local_test_accuracy)\n",
    "            print(\"Local test accuracy of reg_logistic_regression with gamma {:.4f} and lambda {} is {:.4f}\".format(gamma, lambda_, local_test_accuracy))\n",
    "            print(\"loss is:\", loss)\n",
    "\n",
    "gamma = 0.255\n",
    "lambda_ = 0.002\n",
    "max_iters = 300\n",
    "#w, loss = mean_squared_error_gd(y_train, x_train_std, initial_w, max_iters, gamma)\n",
    "reg_logistic_regression(y, tx, initial_w, max_iters, gamma, lambda_)\n",
    "y_test = predict_y(w, x_test)\n",
    "\n",
    "helpers.create_csv_submission(test_ids, y_test, \"AI_crowd_submission2\")\n",
    "\n",
    "\n"
   ]
  },
  {
   "cell_type": "code",
   "execution_count": 170,
   "metadata": {},
   "outputs": [
    {
     "ename": "ValueError",
     "evalue": "x and y must have same first dimension, but have shapes (500,) and (50,)",
     "output_type": "error",
     "traceback": [
      "\u001b[0;31m---------------------------------------------------------------------------\u001b[0m",
      "\u001b[0;31mValueError\u001b[0m                                Traceback (most recent call last)",
      "\u001b[1;32m/home/username/XD/Uni local/ML_Project1/run.ipynb Cell 18\u001b[0m line \u001b[0;36m2\n\u001b[1;32m      <a href='vscode-notebook-cell:/home/username/XD/Uni%20local/ML_Project1/run.ipynb#X55sZmlsZQ%3D%3D?line=0'>1</a>\u001b[0m plt\u001b[39m.\u001b[39mfigure()\n\u001b[0;32m----> <a href='vscode-notebook-cell:/home/username/XD/Uni%20local/ML_Project1/run.ipynb#X55sZmlsZQ%3D%3D?line=1'>2</a>\u001b[0m plt\u001b[39m.\u001b[39mplot(np\u001b[39m.\u001b[39mlinspace(\u001b[39m0\u001b[39m, max_iters, max_iters), accs)\n\u001b[1;32m      <a href='vscode-notebook-cell:/home/username/XD/Uni%20local/ML_Project1/run.ipynb#X55sZmlsZQ%3D%3D?line=2'>3</a>\u001b[0m plt\u001b[39m.\u001b[39mxlabel(\u001b[39m\"\u001b[39m\u001b[39mIterations\u001b[39m\u001b[39m\"\u001b[39m)\n\u001b[1;32m      <a href='vscode-notebook-cell:/home/username/XD/Uni%20local/ML_Project1/run.ipynb#X55sZmlsZQ%3D%3D?line=3'>4</a>\u001b[0m plt\u001b[39m.\u001b[39mylabel(\u001b[39m\"\u001b[39m\u001b[39mAccuracy\u001b[39m\u001b[39m\"\u001b[39m)\n",
      "File \u001b[0;32m~/anaconda3/lib/python3.11/site-packages/matplotlib/pyplot.py:2812\u001b[0m, in \u001b[0;36mplot\u001b[0;34m(scalex, scaley, data, *args, **kwargs)\u001b[0m\n\u001b[1;32m   2810\u001b[0m \u001b[39m@_copy_docstring_and_deprecators\u001b[39m(Axes\u001b[39m.\u001b[39mplot)\n\u001b[1;32m   2811\u001b[0m \u001b[39mdef\u001b[39;00m \u001b[39mplot\u001b[39m(\u001b[39m*\u001b[39margs, scalex\u001b[39m=\u001b[39m\u001b[39mTrue\u001b[39;00m, scaley\u001b[39m=\u001b[39m\u001b[39mTrue\u001b[39;00m, data\u001b[39m=\u001b[39m\u001b[39mNone\u001b[39;00m, \u001b[39m*\u001b[39m\u001b[39m*\u001b[39mkwargs):\n\u001b[0;32m-> 2812\u001b[0m     \u001b[39mreturn\u001b[39;00m gca()\u001b[39m.\u001b[39mplot(\n\u001b[1;32m   2813\u001b[0m         \u001b[39m*\u001b[39margs, scalex\u001b[39m=\u001b[39mscalex, scaley\u001b[39m=\u001b[39mscaley,\n\u001b[1;32m   2814\u001b[0m         \u001b[39m*\u001b[39m\u001b[39m*\u001b[39m({\u001b[39m\"\u001b[39m\u001b[39mdata\u001b[39m\u001b[39m\"\u001b[39m: data} \u001b[39mif\u001b[39;00m data \u001b[39mis\u001b[39;00m \u001b[39mnot\u001b[39;00m \u001b[39mNone\u001b[39;00m \u001b[39melse\u001b[39;00m {}), \u001b[39m*\u001b[39m\u001b[39m*\u001b[39mkwargs)\n",
      "File \u001b[0;32m~/anaconda3/lib/python3.11/site-packages/matplotlib/axes/_axes.py:1688\u001b[0m, in \u001b[0;36mAxes.plot\u001b[0;34m(self, scalex, scaley, data, *args, **kwargs)\u001b[0m\n\u001b[1;32m   1445\u001b[0m \u001b[39m\u001b[39m\u001b[39m\"\"\"\u001b[39;00m\n\u001b[1;32m   1446\u001b[0m \u001b[39mPlot y versus x as lines and/or markers.\u001b[39;00m\n\u001b[1;32m   1447\u001b[0m \n\u001b[0;32m   (...)\u001b[0m\n\u001b[1;32m   1685\u001b[0m \u001b[39m(``'green'``) or hex strings (``'#008000'``).\u001b[39;00m\n\u001b[1;32m   1686\u001b[0m \u001b[39m\"\"\"\u001b[39;00m\n\u001b[1;32m   1687\u001b[0m kwargs \u001b[39m=\u001b[39m cbook\u001b[39m.\u001b[39mnormalize_kwargs(kwargs, mlines\u001b[39m.\u001b[39mLine2D)\n\u001b[0;32m-> 1688\u001b[0m lines \u001b[39m=\u001b[39m [\u001b[39m*\u001b[39m\u001b[39mself\u001b[39m\u001b[39m.\u001b[39m_get_lines(\u001b[39m*\u001b[39margs, data\u001b[39m=\u001b[39mdata, \u001b[39m*\u001b[39m\u001b[39m*\u001b[39mkwargs)]\n\u001b[1;32m   1689\u001b[0m \u001b[39mfor\u001b[39;00m line \u001b[39min\u001b[39;00m lines:\n\u001b[1;32m   1690\u001b[0m     \u001b[39mself\u001b[39m\u001b[39m.\u001b[39madd_line(line)\n",
      "File \u001b[0;32m~/anaconda3/lib/python3.11/site-packages/matplotlib/axes/_base.py:311\u001b[0m, in \u001b[0;36m_process_plot_var_args.__call__\u001b[0;34m(self, data, *args, **kwargs)\u001b[0m\n\u001b[1;32m    309\u001b[0m     this \u001b[39m+\u001b[39m\u001b[39m=\u001b[39m args[\u001b[39m0\u001b[39m],\n\u001b[1;32m    310\u001b[0m     args \u001b[39m=\u001b[39m args[\u001b[39m1\u001b[39m:]\n\u001b[0;32m--> 311\u001b[0m \u001b[39myield from\u001b[39;00m \u001b[39mself\u001b[39m\u001b[39m.\u001b[39m_plot_args(\n\u001b[1;32m    312\u001b[0m     this, kwargs, ambiguous_fmt_datakey\u001b[39m=\u001b[39mambiguous_fmt_datakey)\n",
      "File \u001b[0;32m~/anaconda3/lib/python3.11/site-packages/matplotlib/axes/_base.py:504\u001b[0m, in \u001b[0;36m_process_plot_var_args._plot_args\u001b[0;34m(self, tup, kwargs, return_kwargs, ambiguous_fmt_datakey)\u001b[0m\n\u001b[1;32m    501\u001b[0m     \u001b[39mself\u001b[39m\u001b[39m.\u001b[39maxes\u001b[39m.\u001b[39myaxis\u001b[39m.\u001b[39mupdate_units(y)\n\u001b[1;32m    503\u001b[0m \u001b[39mif\u001b[39;00m x\u001b[39m.\u001b[39mshape[\u001b[39m0\u001b[39m] \u001b[39m!=\u001b[39m y\u001b[39m.\u001b[39mshape[\u001b[39m0\u001b[39m]:\n\u001b[0;32m--> 504\u001b[0m     \u001b[39mraise\u001b[39;00m \u001b[39mValueError\u001b[39;00m(\u001b[39mf\u001b[39m\u001b[39m\"\u001b[39m\u001b[39mx and y must have same first dimension, but \u001b[39m\u001b[39m\"\u001b[39m\n\u001b[1;32m    505\u001b[0m                      \u001b[39mf\u001b[39m\u001b[39m\"\u001b[39m\u001b[39mhave shapes \u001b[39m\u001b[39m{\u001b[39;00mx\u001b[39m.\u001b[39mshape\u001b[39m}\u001b[39;00m\u001b[39m and \u001b[39m\u001b[39m{\u001b[39;00my\u001b[39m.\u001b[39mshape\u001b[39m}\u001b[39;00m\u001b[39m\"\u001b[39m)\n\u001b[1;32m    506\u001b[0m \u001b[39mif\u001b[39;00m x\u001b[39m.\u001b[39mndim \u001b[39m>\u001b[39m \u001b[39m2\u001b[39m \u001b[39mor\u001b[39;00m y\u001b[39m.\u001b[39mndim \u001b[39m>\u001b[39m \u001b[39m2\u001b[39m:\n\u001b[1;32m    507\u001b[0m     \u001b[39mraise\u001b[39;00m \u001b[39mValueError\u001b[39;00m(\u001b[39mf\u001b[39m\u001b[39m\"\u001b[39m\u001b[39mx and y can be no greater than 2D, but have \u001b[39m\u001b[39m\"\u001b[39m\n\u001b[1;32m    508\u001b[0m                      \u001b[39mf\u001b[39m\u001b[39m\"\u001b[39m\u001b[39mshapes \u001b[39m\u001b[39m{\u001b[39;00mx\u001b[39m.\u001b[39mshape\u001b[39m}\u001b[39;00m\u001b[39m and \u001b[39m\u001b[39m{\u001b[39;00my\u001b[39m.\u001b[39mshape\u001b[39m}\u001b[39;00m\u001b[39m\"\u001b[39m)\n",
      "\u001b[0;31mValueError\u001b[0m: x and y must have same first dimension, but have shapes (500,) and (50,)"
     ]
    },
    {
     "data": {
      "image/png": "[encoded data removed]",
      "text/plain": [
       "<Figure size 640x480 with 1 Axes>"
      ]
     },
     "metadata": {},
     "output_type": "display_data"
    }
   ],
   "source": [
    "plt.figure()\n",
    "plt.plot(np.linspace(0, max_iters, max_iters), accs)\n",
    "plt.xlabel(\"Iterations\")\n",
    "plt.ylabel(\"Accuracy\")\n",
    "plt.show()"
   ]
  },
  {
   "cell_type": "code",
   "execution_count": null,
   "metadata": {},
   "outputs": [],
   "source": []
  }
 ],
 "metadata": {
  "kernelspec": {
   "display_name": "CIVIL-459",
   "language": "python",
   "name": "python3"
  },
  "language_info": {
   "codemirror_mode": {
    "name": "ipython",
    "version": 3
   },
   "file_extension": ".py",
   "mimetype": "text/x-python",
   "name": "python",
   "nbconvert_exporter": "python",
   "pygments_lexer": "ipython3",
   "version": "3.11.5"
  }
 },
 "nbformat": 4,
 "nbformat_minor": 2
}
