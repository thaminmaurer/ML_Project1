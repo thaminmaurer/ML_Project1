{
 "cells": [
  {
   "attachments": {},
   "cell_type": "markdown",
   "metadata": {},
   "source": [
    "# CS-433 Machine learning project 1"
   ]
  },
  {
   "cell_type": "code",
   "execution_count": 81,
   "metadata": {},
   "outputs": [
    {
     "name": "stdout",
     "output_type": "stream",
     "text": [
      "The autoreload extension is already loaded. To reload it, use:\n",
      "  %reload_ext autoreload\n"
     ]
    }
   ],
   "source": [
    "import numpy as np\n",
    "import matplotlib.pyplot as plt\n",
    "import helpers\n",
    "from implementations import *\n",
    "\n",
    "%load_ext autoreload\n",
    "%autoreload 2"
   ]
  },
  {
   "cell_type": "code",
   "execution_count": 82,
   "metadata": {},
   "outputs": [],
   "source": [
    "# x_train = np.genfromtxt(\"data/dataset/x_train.csv\", delimiter=',', skip_header=1)\n",
    "# y_train = np.genfromtxt(\"data/dataset/y_train.csv\", delimiter=',', skip_header=1)\n",
    "# x_test =  np.genfromtxt(\"data/dataset/x_test.csv\", delimiter=',', skip_header=1)\n",
    "x_train, x_test, y_train, train_ids, test_ids = helpers.load_csv_data(\"data/dataset\")\n",
    "x_train_orig = x_train.copy()\n",
    "y_train_orig = y_train.copy()"
   ]
  },
  {
   "cell_type": "code",
   "execution_count": 83,
   "metadata": {},
   "outputs": [
    {
     "name": "stdout",
     "output_type": "stream",
     "text": [
      "[2015. 2015. 2015. ... 2015. 2015. 2015.]\n",
      "float64\n",
      "False\n",
      "139415\n",
      "[-1 -1 -1 ... -1 -1 -1]\n"
     ]
    }
   ],
   "source": [
    "print(x_train[:,5])\n",
    "print(x_train[0,5].dtype)\n",
    "print(np.isnan(x_train[0,5]))\n",
    "print(np.sum(np.isnan(x_train[:,10])))\n",
    "print(y_train)"
   ]
  },
  {
   "attachments": {},
   "cell_type": "markdown",
   "metadata": {},
   "source": [
    "## Nan handling"
   ]
  },
  {
   "cell_type": "code",
   "execution_count": 84,
   "metadata": {},
   "outputs": [
    {
     "name": "stdout",
     "output_type": "stream",
     "text": [
      "[     0      0      0      0      0      0      0      0      0 139415\n",
      " 139415 328103 139416 139415 328103 139433 139524 139525 188720 188720\n",
      " 188721 188720 327334 188719 189287 192544      2      1      0 159860\n",
      "      0      0      1      1      1 196334      0  43801  43801      0\n",
      "      0 284153      1      0      0      1      0      0      5 285915\n",
      "      0      0      0      0 139415 318245 139415      1      0      3\n",
      "   2471   3207   3946   4407 279663   6933   7743   8293   8728   9149\n",
      "   9432   9862  10541 191379 282510 237369  11007  11765 170906 171212\n",
      " 171522  20738  21567  22468  23149  23759  24502  26205 107829 109141\n",
      " 109407 109690 181261 181400  28647 226907 227043 227197 229088  29911\n",
      "  30600 186763 186001  31022  32080 243418 243561 266689 266689 306425\n",
      " 306426 306428 306429 306429 306629 306429 306430 306430 247299 310302\n",
      " 310320 310346 310367 310392 310403 310450 265347 325762 325769 325769\n",
      " 327339 326264 325775 325777 325777 325780 241493 318477 318489 325051\n",
      " 318505 318515 297518 309300 297543 327354 327645 327907 327907 327648\n",
      " 327648 327649 327793 327650 327650 327362 327618 314089 318284 323942\n",
      " 323941 323942 313550 313560 313564 313572 298044 320046 327036 307336\n",
      " 311136 314308 311142 312277 311151 322950 311321 323914 324421 287897\n",
      " 313435 287921 298973 298976 323261 323267 323272 323272 325495 325498\n",
      " 327539 327956 276513 273642 302161 302172 309175 299744 203924 203990\n",
      " 283588 283743 289046 323324 313056 313066 312994 313007 313014 313018\n",
      " 313027 313032 313044 313055 313067 313074      0     14 142438      0\n",
      "     22      0      0  90436 279532 279532 283603      0 123084      0\n",
      "      0      0      0      0  43801      0      0      0   1883      0\n",
      "      0      0      0      0      0   5438      0      0      0      0\n",
      "  12721  11368  23006  27073  27073      0      0      0      0      0\n",
      "      0      0      0      0      0      0  28366  26927  29382  27893\n",
      "  28958  30593      0      0      0      0  32115  37605      0      0\n",
      "      0      0      0      0      0 108727 112425      0      0 111072\n",
      " 114698 113793 184643 111257 182913 115152 116821  32496      0 117355\n",
      " 119004 112859 113785 117012 111793      0      0      0      0      0\n",
      "      0      0      0   1883   1883   1883      0      0 211378 211378\n",
      "  32080]\n",
      "146965.04361370715\n",
      "(321,)\n",
      "321\n"
     ]
    }
   ],
   "source": [
    "\n",
    "#calculate number number of nan per column\n",
    "logical_matrix = np.isnan(x_train)\n",
    "nan_per_columns = np.sum(logical_matrix, axis=0)\n",
    "print(nan_per_columns)\n",
    "average_nan = np.mean(nan_per_columns)\n",
    "print(average_nan)\n",
    "print(np.shape(nan_per_columns))\n",
    "print(np.shape(x_train)[1])"
   ]
  },
  {
   "cell_type": "code",
   "execution_count": 85,
   "metadata": {},
   "outputs": [],
   "source": [
    "# delet the columns with more nan than the average\n",
    "x_train_reduced_features = x_train[:, nan_per_columns <= average_nan]\n",
    "\n",
    "\n"
   ]
  },
  {
   "cell_type": "code",
   "execution_count": 86,
   "metadata": {},
   "outputs": [
    {
     "name": "stdout",
     "output_type": "stream",
     "text": [
      "(328135, 321)\n"
     ]
    }
   ],
   "source": [
    "print(np.shape(x_train))"
   ]
  },
  {
   "cell_type": "code",
   "execution_count": 87,
   "metadata": {},
   "outputs": [
    {
     "name": "stdout",
     "output_type": "stream",
     "text": [
      "[0 0 0 0 0 0 0 0 0 0 0 0 0 0 0 0 0 0 0 0 0 0 0 0 0 0 0 0 0 0 0 0 0 0 0 0 0\n",
      " 0 0 0 0 0 0 0 0 0 0 0 0 0 0 0 0 0 0 0 0 0 0 0 0 0 0 0 0 0 0 0 0 0 0 0 0 0\n",
      " 0 0 0 0 0 0 0 0 0 0 0 0 0 0 0 0 0 0 0 0 0 0 0 0 0 0 0 0 0 0 0 0 0 0 0 0 0\n",
      " 0 0 0 0 0 0 0 0 0 0 0 0 0 0 0 0 0 0 0 0 0 0 0 0 0 0 0 0 0 0 0 0 0 0 0 0 0\n",
      " 0 0 0 0 0 0 0 0 0 0 0 0 0 0 0 0 0 0 0 0 0 0 0 0 0 0 0 0 0 0 0 0 0 0 0 0 0\n",
      " 0 0 0 0 0 0 0 0 0 0 0 0 0 0 0 0 0 0 0 0 0 0 0 0 0 0 0 0 0 0 0 0 0 0 0 0 0\n",
      " 0 0 0 0 0 0 0 0 0 0 0 0 0 0 0 0 0 0 0 0 0 0 0 0 0 0 0 0 0 0 0 0 0 0 0 0 0\n",
      " 0 0 0 0 0 0 0 0 0 0 0 0 0 0 0 0 0 0 0 0 0 0 0 0 0 0 0 0 0 0 0 0 0 0 0 0 0\n",
      " 0 0 0 0 0 0 0 0 0 0 0 0 0 0 0 0 0 0 0 0 0 0 0 0 0]\n"
     ]
    }
   ],
   "source": [
    "#replace nan values with 0:\n",
    "x_train_w_mean = x_train\n",
    "for i in range( np.shape(x_train)[1]):\n",
    "    nan_entries = np.isnan(x_train[:,i])\n",
    "    mean = np.mean(x_train[~nan_entries,i])\n",
    "\n",
    "    nan_entries = np.isnan(x_train[:,i])\n",
    "\n",
    "    x_train_w_mean[nan_entries, i] = 0\n",
    "    \n",
    "logical_matrix = np.isnan(x_train_w_mean)\n",
    "nan_per_columns2 = np.sum(logical_matrix, axis=0)\n",
    "print(nan_per_columns2)\n",
    "\n",
    "\n",
    "\n"
   ]
  },
  {
   "cell_type": "code",
   "execution_count": 88,
   "metadata": {},
   "outputs": [
    {
     "name": "stdout",
     "output_type": "stream",
     "text": [
      "[[ 1.4362964   1.33036073  1.31787257 ... -0.43830768 -0.42493604\n",
      "   0.1522069 ]\n",
      " [ 0.18877218  1.61711904  1.60160179 ... -0.43830768 -0.42493604\n",
      "  -1.19716795]\n",
      " [-0.62211856  1.04360241  1.04274121 ...  0.09962797  0.56745845\n",
      "   0.1522069 ]\n",
      " ...\n",
      " [ 0.56302944  1.04360241  1.04274121 ...  0.63756363  0.56745845\n",
      "   0.1522069 ]\n",
      " [ 0.18877218  1.61711904  1.64459107 ... -0.43830768 -0.42493604\n",
      "   0.1522069 ]\n",
      " [ 0.12639597  0.7568441   0.73321843 ... -0.43830768 -0.42493604\n",
      "   0.1522069 ]]\n"
     ]
    }
   ],
   "source": [
    "x_train_std, _, _, = standardize(x_train_w_mean)\n",
    "print(x_train_std)"
   ]
  },
  {
   "cell_type": "code",
   "execution_count": 89,
   "metadata": {},
   "outputs": [
    {
     "name": "stdout",
     "output_type": "stream",
     "text": [
      "(328135, 321)\n"
     ]
    }
   ],
   "source": [
    "\n",
    "\n",
    "print(np.shape(x_train_std))\n",
    "\n"
   ]
  },
  {
   "cell_type": "code",
   "execution_count": 90,
   "metadata": {},
   "outputs": [
    {
     "name": "stdout",
     "output_type": "stream",
     "text": [
      "There are 91.17 % -1.\n",
      "\n",
      "There are 8.83 % 1.\n",
      "\n"
     ]
    }
   ],
   "source": [
    "### Count the amount of incidents\n",
    "\n",
    "minus_ones = np.sum((y_train == -1))\n",
    "\n",
    "ones = np.sum(( y_train == 1))\n",
    "print(f\"There are {100*minus_ones/len(y_train):.2f} % -1.\\n\")\n",
    "print(f\"There are {100*ones/len(y_train):.2f} % 1.\\n\")"
   ]
  },
  {
   "cell_type": "code",
   "execution_count": null,
   "metadata": {},
   "outputs": [],
   "source": []
  },
  {
   "cell_type": "markdown",
   "metadata": {},
   "source": [
    "## Using a Chi-squared test to determine the important values\n"
   ]
  },
  {
   "cell_type": "code",
   "execution_count": 91,
   "metadata": {},
   "outputs": [
    {
     "name": "stderr",
     "output_type": "stream",
     "text": [
      "/tmp/ipykernel_6542/2622695774.py:12: RuntimeWarning: invalid value encountered in divide\n",
      "  chi2 = np.sum((contingency_table - np.mean(contingency_table))**2 / np.mean(contingency_table))\n"
     ]
    },
    {
     "name": "stdout",
     "output_type": "stream",
     "text": [
      "[100 117 116 115 114 113 112 111 110 109 108 107 106 105 104 103 102 101\n",
      " 159 320]\n"
     ]
    }
   ],
   "source": [
    "# Define a function to calculate the chi-squared values for all features\n",
    "def chi2_features(X, y):\n",
    "    chi2_scores = []\n",
    "    for feature in range(X.shape[1]):\n",
    "        # Create a contingency table\n",
    "        contingency_table = np.zeros((2, 2))\n",
    "        for i in range(2):\n",
    "            for j in range(2):\n",
    "                # Count occurrences for each combination of feature and target\n",
    "                contingency_table[i, j] = np.sum((X[:, feature] == i) & (y == j))\n",
    "        # Calculate the chi-squared statistic\n",
    "        chi2 = np.sum((contingency_table - np.mean(contingency_table))**2 / np.mean(contingency_table))\n",
    "        chi2_scores.append(chi2)\n",
    "    return chi2_scores\n",
    "\n",
    "# Calculate chi-squared values for all features\n",
    "chi2_scores = chi2_features(x_train_std, y_train)\n",
    "\n",
    "# Specify the number of top features to select (k)\n",
    "k = 20\n",
    "\n",
    "# Get the indices of the top k features with the highest chi-squared scores\n",
    "selected_feature_indices = np.argsort(chi2_scores)[-k:]\n",
    "\n",
    "print(selected_feature_indices)"
   ]
  },
  {
   "cell_type": "markdown",
   "metadata": {},
   "source": [
    "## Rebalancing the data"
   ]
  },
  {
   "cell_type": "code",
   "execution_count": 92,
   "metadata": {},
   "outputs": [
    {
     "name": "stdout",
     "output_type": "stream",
     "text": [
      "Proportion of majority class (-1) in rebalanced dataset: 0.6737306743837761\n",
      "Proportion of minority class (1) in rebalanced dataset: 0.32626932561622396\n"
     ]
    }
   ],
   "source": [
    "# Choose the desired number of instances for each class\n",
    "desired_majority_class = 0.20  # for -1\n",
    "desired_minority_class = 1  # for 1\n",
    "\n",
    "# Find the indices of the majority and minority classes\n",
    "majority_indices = np.where(y_train == -1)[0]\n",
    "minority_indices = np.where(y_train == 1)[0]\n",
    "\n",
    "# Calculate the number of samples to keep for each class\n",
    "num_samples_majority = int(desired_majority_class * len(majority_indices))\n",
    "num_samples_minority = int(desired_minority_class * len(minority_indices))\n",
    "\n",
    "# Randomly select a subset of majority class instances (undersampling)\n",
    "undersampled_majority_indices = np.random.choice(majority_indices, num_samples_majority, replace=False)\n",
    "\n",
    "# Randomly select a subset of minority class instances (oversampling)\n",
    "oversampled_minority_indices = np.random.choice(minority_indices, num_samples_minority, replace=True)\n",
    "\n",
    "# Combine the undersampled majority class with the oversampled minority class\n",
    "X_balanced = np.vstack((x_train_std[undersampled_majority_indices], x_train_std[oversampled_minority_indices]))\n",
    "y_balanced = np.hstack((y_train[undersampled_majority_indices], y_train[oversampled_minority_indices]))\n",
    "\n",
    "# Calculate the proportion of each class in the rebalanced dataset\n",
    "proportion_majority_class = np.sum(y_balanced == -1) / len(y_balanced)\n",
    "proportion_minority_class = np.sum(y_balanced == 1) / len(y_balanced)\n",
    "\n",
    "print(\"Proportion of majority class (-1) in rebalanced dataset:\", proportion_majority_class)\n",
    "print(\"Proportion of minority class (1) in rebalanced dataset:\", proportion_minority_class)\n"
   ]
  },
  {
   "cell_type": "markdown",
   "metadata": {},
   "source": [
    "## Training the model"
   ]
  },
  {
   "cell_type": "code",
   "execution_count": 93,
   "metadata": {},
   "outputs": [
    {
     "name": "stdout",
     "output_type": "stream",
     "text": [
      "Iteration 0 of 100 finished.\n",
      "Accuracy : 0.44649633474838696, Loss : 0.8451415837182904, F1score : 0.4486197265252555\n",
      "Iteration 1 of 100 finished.\n",
      "Accuracy : 0.44548290112265926, Loss : 0.8302962418751828, F1score : 0.4493643286035357\n",
      "Iteration 2 of 100 finished.\n",
      "Accuracy : 0.4482304322857432, Loss : 0.8172200969660248, F1score : 0.45104914690297215\n",
      "Iteration 3 of 100 finished.\n",
      "Accuracy : 0.4494465526366165, Loss : 0.8057111699269318, F1score : 0.4524798709951959\n",
      "Iteration 4 of 100 finished.\n",
      "Accuracy : 0.4518450122175054, Loss : 0.7955856679169474, F1score : 0.4526770254772773\n",
      "Iteration 5 of 100 finished.\n",
      "Accuracy : 0.5376603195694033, Loss : 0.7866776965774056, F1score : 0.46513385006187713\n",
      "Iteration 6 of 100 finished.\n",
      "Accuracy : 0.5403515488643913, Loss : 0.7788378888754068, F1score : 0.46644707604632313\n",
      "Iteration 7 of 100 finished.\n",
      "Accuracy : 0.5443602418728254, Loss : 0.7719320620537701, F1score : 0.4614708935558572\n",
      "Iteration 8 of 100 finished.\n",
      "Accuracy : 0.5480198632990643, Loss : 0.7658401891572568, F1score : 0.4635186249482083\n",
      "Iteration 9 of 100 finished.\n",
      "Accuracy : 0.5508912585719594, Loss : 0.7604555595259196, F1score : 0.46614910989158076\n",
      "Iteration 10 of 100 finished.\n",
      "Accuracy : 0.5537063519767585, Loss : 0.7556839746774818, F1score : 0.4684423701080979\n",
      "Iteration 11 of 100 finished.\n",
      "Accuracy : 0.5541567669215265, Loss : 0.7514428526187763, F1score : 0.4504954617370306\n",
      "Iteration 12 of 100 finished.\n",
      "Accuracy : 0.555620615492022, Loss : 0.7476601455898646, F1score : 0.45185843657981\n",
      "Iteration 13 of 100 finished.\n",
      "Accuracy : 0.5571745470514712, Loss : 0.7442731480893537, F1score : 0.45365379272020007\n",
      "Iteration 14 of 100 finished.\n",
      "Accuracy : 0.5581879806771989, Loss : 0.7412274288210609, F1score : 0.4551766274161298\n",
      "Iteration 15 of 100 finished.\n",
      "Accuracy : 0.5582555429189141, Loss : 0.7384759782297275, F1score : 0.4484746239280191\n",
      "Iteration 16 of 100 finished.\n",
      "Accuracy : 0.5588973842152083, Loss : 0.7359784362370414, F1score : 0.4497942329030718\n",
      "Iteration 17 of 100 finished.\n",
      "Accuracy : 0.5619827265868681, Loss : 0.7337002925458385, F1score : 0.4482020001418541\n",
      "Iteration 18 of 100 finished.\n",
      "Accuracy : 0.5629961602125959, Loss : 0.7316120864532797, F1score : 0.44974407690453577\n",
      "Iteration 19 of 100 finished.\n",
      "Accuracy : 0.5637393448714628, Loss : 0.7296886687557188, F1score : 0.45082002069542293\n",
      "Iteration 20 of 100 finished.\n",
      "Accuracy : 0.5643361446732803, Loss : 0.7279085565071377, F1score : 0.45190536903244083\n",
      "Iteration 21 of 100 finished.\n",
      "Accuracy : 0.565236974562816, Loss : 0.7262533821206287, F1score : 0.453162620740447\n",
      "Iteration 22 of 100 finished.\n",
      "Accuracy : 0.5658675554854911, Loss : 0.7247074264360274, F1score : 0.45319680036307936\n",
      "Iteration 23 of 100 finished.\n",
      "Accuracy : 0.5664868760345468, Loss : 0.7232572233089768, F1score : 0.45435605255325473\n",
      "Iteration 24 of 100 finished.\n",
      "Accuracy : 0.5698987692411634, Loss : 0.7218912244755943, F1score : 0.45304579431222614\n",
      "Iteration 25 of 100 finished.\n",
      "Accuracy : 0.5706306935264112, Loss : 0.7205995152226468, F1score : 0.45404693383732087\n",
      "Iteration 26 of 100 finished.\n",
      "Accuracy : 0.571306315943563, Loss : 0.7193735729868931, F1score : 0.45473424900817805\n",
      "Iteration 27 of 100 finished.\n",
      "Accuracy : 0.572105802470526, Loss : 0.7182060623065363, F1score : 0.45569656515885065\n",
      "Iteration 28 of 100 finished.\n",
      "Accuracy : 0.5728602475030121, Loss : 0.7170906605966653, F1score : 0.4567574147536053\n",
      "Iteration 29 of 100 finished.\n",
      "Accuracy : 0.5737610773925479, Loss : 0.7160219100785407, F1score : 0.45729687880829833\n",
      "Iteration 30 of 100 finished.\n",
      "Accuracy : 0.5738962018759782, Loss : 0.7149950919051875, F1score : 0.45779541774727406\n",
      "Iteration 31 of 100 finished.\n",
      "Accuracy : 0.5739862848649319, Loss : 0.71400611912452, F1score : 0.4580032376831941\n",
      "Iteration 32 of 100 finished.\n",
      "Accuracy : 0.574110148974743, Loss : 0.7130514456279864, F1score : 0.4582461970378434\n",
      "Iteration 33 of 100 finished.\n",
      "Accuracy : 0.5743916583152229, Loss : 0.7121279886632803, F1score : 0.458813590870692\n",
      "Iteration 34 of 100 finished.\n",
      "Accuracy : 0.5749884581170404, Loss : 0.7112330628560758, F1score : 0.45958019529795824\n",
      "Iteration 35 of 100 finished.\n",
      "Accuracy : 0.5750898014796131, Loss : 0.7103643239976205, F1score : 0.46002604352989995\n",
      "Iteration 36 of 100 finished.\n",
      "Accuracy : 0.5754951749299042, Loss : 0.7095197211203704, F1score : 0.46024769131648646\n",
      "Iteration 37 of 100 finished.\n",
      "Accuracy : 0.5755852579188577, Loss : 0.7086974556093477, F1score : 0.4605784780959742\n",
      "Iteration 38 of 100 finished.\n",
      "Accuracy : 0.5760131521163873, Loss : 0.7078959462883638, F1score : 0.460968032869025\n",
      "Iteration 39 of 100 finished.\n",
      "Accuracy : 0.5765086085556319, Loss : 0.7071137995826099, F1score : 0.4615979270754298\n",
      "Iteration 40 of 100 finished.\n",
      "Accuracy : 0.5767675971488734, Loss : 0.7063497839966604, F1score : 0.46182703321878577\n",
      "Iteration 41 of 100 finished.\n",
      "Accuracy : 0.5769139820059229, Loss : 0.7056028082633548, F1score : 0.4620670894956118\n",
      "Iteration 42 of 100 finished.\n",
      "Accuracy : 0.5769477631267805, Loss : 0.7048719026175109, F1score : 0.4619482714175236\n",
      "Iteration 43 of 100 finished.\n",
      "Accuracy : 0.5806749467947346, Loss : 0.7041562027316703, F1score : 0.4616541135992367\n",
      "Iteration 44 of 100 finished.\n",
      "Accuracy : 0.5808438523990226, Loss : 0.7034549359214559, F1score : 0.4619254119687771\n",
      "Iteration 45 of 100 finished.\n",
      "Accuracy : 0.5812267051020753, Loss : 0.7027674092875892, F1score : 0.4621681031989356\n",
      "Iteration 46 of 100 finished.\n",
      "Accuracy : 0.5813618295855056, Loss : 0.7020929995118927, F1score : 0.462481566087384\n",
      "Iteration 47 of 100 finished.\n",
      "Accuracy : 0.5816320785523663, Loss : 0.7014311440670934, F1score : 0.46289068146991647\n",
      "Iteration 48 of 100 finished.\n",
      "Accuracy : 0.5817334219149392, Loss : 0.7007813336361917, F1score : 0.4629043219248399\n",
      "Iteration 49 of 100 finished.\n",
      "Accuracy : 0.5819586293873231, Loss : 0.7001431055675841, F1score : 0.4632400780741705\n",
      "Iteration 50 of 100 finished.\n",
      "Accuracy : 0.5825554291891405, Loss : 0.6995160382178769, F1score : 0.4637194769123944\n",
      "Iteration 51 of 100 finished.\n",
      "Accuracy : 0.582645512178094, Loss : 0.6988997460561673, F1score : 0.4639747780059584\n",
      "Iteration 52 of 100 finished.\n",
      "Accuracy : 0.5830171045075275, Loss : 0.6982938754220718, F1score : 0.46543386312127377\n",
      "Iteration 53 of 100 finished.\n",
      "Accuracy : 0.5830396252547659, Loss : 0.697698100845505, F1score : 0.4655553150032474\n",
      "Iteration 54 of 100 finished.\n",
      "Accuracy : 0.5829720630130508, Loss : 0.6971121218495612, F1score : 0.46577713667508114\n",
      "Iteration 55 of 100 finished.\n",
      "Accuracy : 0.5830171045075275, Loss : 0.6965356601692037, F1score : 0.46598889609921407\n",
      "Iteration 56 of 100 finished.\n",
      "Accuracy : 0.5835463420676298, Loss : 0.6959684573281456, F1score : 0.4665051064566384\n",
      "Iteration 57 of 100 finished.\n",
      "Accuracy : 0.5836814665510601, Loss : 0.6954102725245291, F1score : 0.4666782066816687\n",
      "Iteration 58 of 100 finished.\n",
      "Accuracy : 0.5838391117817289, Loss : 0.6948608807830517, F1score : 0.46697242413753315\n",
      "Iteration 59 of 100 finished.\n",
      "Accuracy : 0.584762462418503, Loss : 0.6943200713371755, F1score : 0.47407153859318846\n",
      "Iteration 60 of 100 finished.\n",
      "Accuracy : 0.5848300246602183, Loss : 0.693787646210196, F1score : 0.4742770775109793\n",
      "Iteration 61 of 100 finished.\n",
      "Accuracy : 0.5851227943743174, Loss : 0.6932634189683161, F1score : 0.47451293607553413\n",
      "Iteration 62 of 100 finished.\n",
      "Accuracy : 0.5853142207258437, Loss : 0.6927472136226486, F1score : 0.474777871272302\n",
      "Iteration 63 of 100 finished.\n",
      "Accuracy : 0.5853480018467013, Loss : 0.6922388636602673, F1score : 0.4936193619361936\n",
      "Iteration 64 of 100 finished.\n",
      "Accuracy : 0.5857195941761347, Loss : 0.6917382111872018, F1score : 0.49391309132426375\n",
      "Iteration 65 of 100 finished.\n",
      "Accuracy : 0.5859222809012803, Loss : 0.6912451061686328, F1score : 0.4940493388918699\n",
      "Iteration 66 of 100 finished.\n",
      "Accuracy : 0.5862938732307138, Loss : 0.6907594057535822, F1score : 0.4944268611531582\n",
      "Iteration 67 of 100 finished.\n",
      "Accuracy : 0.5867893296699584, Loss : 0.6902809736731405, F1score : 0.5030201251388174\n",
      "Iteration 68 of 100 finished.\n",
      "Accuracy : 0.5870820993840575, Loss : 0.6898096797027778, F1score : 0.5032376927036767\n",
      "Iteration 69 of 100 finished.\n",
      "Accuracy : 0.5872847861092031, Loss : 0.6893453991805821, F1score : 0.5053310659432612\n",
      "Iteration 70 of 100 finished.\n",
      "Accuracy : 0.5878590651637822, Loss : 0.6888880125743764, F1score : 0.5073823335441932\n",
      "Iteration 71 of 100 finished.\n",
      "Accuracy : 0.5881518348778813, Loss : 0.6884374050916322, F1score : 0.5075334257900335\n",
      "Iteration 72 of 100 finished.\n",
      "Accuracy : 0.5882869593613116, Loss : 0.6879934663269274, F1score : 0.50772151387449\n",
      "Iteration 73 of 100 finished.\n",
      "Accuracy : 0.5885909894490299, Loss : 0.6875560899423945, F1score : 0.5079326599326599\n",
      "Iteration 74 of 100 finished.\n",
      "Accuracy : 0.5887598950533178, Loss : 0.6871251733772397, F1score : 0.5079557549546637\n",
      "Iteration 75 of 100 finished.\n",
      "Accuracy : 0.588478385712838, Loss : 0.6867006175829298, F1score : 0.5089487262173492\n",
      "Iteration 76 of 100 finished.\n",
      "Accuracy : 0.5886135101962683, Loss : 0.6862823267811063, F1score : 0.5092022891533894\n",
      "Iteration 77 of 100 finished.\n",
      "Accuracy : 0.5887936761741754, Loss : 0.6858702082416801, F1score : 0.5092985756517064\n",
      "Iteration 78 of 100 finished.\n",
      "Accuracy : 0.588996362899321, Loss : 0.6854641720789011, F1score : 0.5096853926546842\n",
      "Iteration 79 of 100 finished.\n",
      "Accuracy : 0.5892778722398009, Loss : 0.6850641310634907, F1score : 0.5101462510576006\n",
      "Iteration 80 of 100 finished.\n",
      "Accuracy : 0.5893679552287545, Loss : 0.6846700004491768, F1score : 0.5104246378562702\n",
      "Iteration 81 of 100 finished.\n",
      "Accuracy : 0.5893904759759929, Loss : 0.6842816978121894, F1score : 0.5105697604187638\n",
      "Iteration 82 of 100 finished.\n",
      "Accuracy : 0.5890188836465594, Loss : 0.6838991429024662, F1score : 0.5112747723620782\n",
      "Iteration 83 of 100 finished.\n",
      "Accuracy : 0.588940061031225, Loss : 0.6835222575054769, F1score : 0.5112006748523761\n",
      "Iteration 84 of 100 finished.\n",
      "Accuracy : 0.5891990496244666, Loss : 0.6831509653137113, F1score : 0.5115282650028118\n",
      "Iteration 85 of 100 finished.\n",
      "Accuracy : 0.5893904759759929, Loss : 0.6827851918070064, F1score : 0.5120237665100968\n",
      "Iteration 86 of 100 finished.\n",
      "Accuracy : 0.5895368608330425, Loss : 0.6824248641409781, F1score : 0.5122825796093123\n",
      "Iteration 87 of 100 finished.\n",
      "Accuracy : 0.5902575247446711, Loss : 0.6820699110429217, F1score : 0.5126563630032411\n",
      "Iteration 88 of 100 finished.\n",
      "Accuracy : 0.5901224002612406, Loss : 0.6817202627146186, F1score : 0.5129131540211429\n",
      "Iteration 89 of 100 finished.\n",
      "Accuracy : 0.5900773587667639, Loss : 0.6813758507415478, F1score : 0.5128335519096432\n",
      "Iteration 90 of 100 finished.\n",
      "Accuracy : 0.5924082561059376, Loss : 0.6810366080080646, F1score : 0.5136446086664428\n",
      "Iteration 91 of 100 finished.\n",
      "Accuracy : 0.5924645579740335, Loss : 0.6807024686181471, F1score : 0.5139142580853121\n",
      "Iteration 92 of 100 finished.\n",
      "Accuracy : 0.5969461866744739, Loss : 0.6803733678213627, F1score : 0.5157738095238096\n",
      "Iteration 93 of 100 finished.\n",
      "Accuracy : 0.5980159221682976, Loss : 0.6800492419437315, F1score : 0.5164113192722939\n",
      "Iteration 94 of 100 finished.\n",
      "Accuracy : 0.5983649937504927, Loss : 0.679730028323201, F1score : 0.5166544705531615\n",
      "Iteration 95 of 100 finished.\n",
      "Accuracy : 0.5983762541241119, Loss : 0.6794156652494651, F1score : 0.5183714806562689\n",
      "Iteration 96 of 100 finished.\n",
      "Accuracy : 0.5979934014210592, Loss : 0.6791060919078904, F1score : 0.5185624705009776\n",
      "Iteration 97 of 100 finished.\n",
      "Accuracy : 0.5988604501897373, Loss : 0.6788012483273224, F1score : 0.5190365609980019\n",
      "Iteration 98 of 100 finished.\n",
      "Accuracy : 0.5988717105633565, Loss : 0.6785010753315642, F1score : 0.5190435686608071\n",
      "Iteration 99 of 100 finished.\n",
      "Accuracy : 0.5989955746731677, Loss : 0.6782055144943363, F1score : 0.5193932359847769\n",
      "lambda =  0.001 | Accuracy moyenne : 0.5723530802752036 | Acc>0.75 : 0\n"
     ]
    }
   ],
   "source": [
    "best_feature_indices = [16, 22, 28, 41, 52, 71, 234, 236]\n",
    "\n",
    "#tx = x_train_std[:, selected_feature_indices] # change input data here\n",
    "#tx = x_train_std[:, 10:321] # change input data here\n",
    "tx = X_balanced[:, selected_feature_indices] # change input data here\n",
    "\n",
    "#y = y_train[:] # change target value here\n",
    "y = y_balanced[:] # change target value here\n",
    "y = y.reshape(-1,)\n",
    "\n",
    "\n",
    "\n",
    "w_s=[]\n",
    "losses=[]\n",
    "\n",
    "# Number of features\n",
    "num_features = tx.shape[1]\n",
    "\n",
    "\"\"\" # Initialize weights randomly\n",
    "w = np.random.uniform(-1, 1, (num_features,)) \"\"\"\n",
    "\n",
    "# Initialize weights using Xavier/Glorot initialization\n",
    "w = np.random.uniform(-np.sqrt(6.0 / (num_features + 1)), np.sqrt(6.0 / (num_features + 1)), (num_features,))\n",
    "\n",
    "\"\"\" # Initialize weights to near zero\n",
    "w = np.full((num_features ,), 1e-16)  \"\"\"\n",
    "\n",
    "max_iters=100\n",
    "accs=[]\n",
    "precs=[]\n",
    "recs=[]\n",
    "F1s=[]\n",
    "batch_size = 1\n",
    "lambda_ = 1e-3\n",
    "gamma = 0.001\n",
    "\n",
    "for i in range(max_iters):\n",
    "\n",
    "    #1) mean_squared_error_gd\n",
    "    #w, loss = mean_squared_error_gd(y, tx, w, max_iters, gamma)\n",
    "\n",
    "    #2) mean_squared_error_sgd\n",
    "    #w, loss = mean_squared_error_sgd(y, tx, w, max_iters, gamma,  batch_size, num_batches=1) \n",
    "\n",
    "    #3) least_squares\n",
    "    #w, loss = least_squares(y, tx)  # change input data here, matrix is not invertible[10, 12, 14/15/20/69]\n",
    "\n",
    "    #4) ridge_regression\n",
    "    #w, loss = ridge_regression(y, tx, lambda_)\n",
    "\n",
    "    #5) logistic_regression\n",
    "    #w, loss = logistic_regression_minusone_one(y, tx, w, max_iters, gamma)\n",
    "\n",
    "    #6) reg_logistic_regression\n",
    "    w, loss = reg_logistic_regression(y, tx, lambda_, w, max_iters, gamma) \n",
    "\n",
    "    #7) logistic_regression with mini-batch\n",
    "    #w, loss = logistic_regression_with_mb(y, tx, w, max_iters, gamma, batch_size)\n",
    " \n",
    "    losses.append(loss)\n",
    "\n",
    " \n",
    "    y_1 = tx.dot(w)\n",
    "    y_2 = compute_sigmoid(y_1)\n",
    "    y_pred = y_2.copy()\n",
    "    y_pred[y_2>0.5] = 1\n",
    "    y_pred[y_2<=0.5] = -1\n",
    "    \n",
    "    TP = 0\n",
    "    FP = 0\n",
    "    TN = 0\n",
    "    FN = 0\n",
    "    for pred in range(len(y_pred)):\n",
    "        if (y_pred[pred] == 1 and y[pred] == 1):\n",
    "            TP+=1\n",
    "        elif (y_pred[pred] == 1 and y[pred] == -1):\n",
    "            FP+=1\n",
    "        elif (y_pred[pred] == -1 and y[pred] == 1):\n",
    "            FN+=1\n",
    "        else :\n",
    "            TN+=1\n",
    "    acc = (TP+TN)/len(y_pred)\n",
    "    if TP + FP == 0:\n",
    "        prec = 0  # Avoid division by zero\n",
    "    else:\n",
    "        prec = TP / (TP + FP)\n",
    "\n",
    "\n",
    "    if TP + FN == 0:\n",
    "        rec = 0  # Avoid division by zero\n",
    "    else:\n",
    "        rec = TP / (TP + FN)\n",
    "\n",
    "\n",
    "    if prec + rec == 0:\n",
    "        F1score = 0  # Avoid division by zero\n",
    "    else:\n",
    "        F1score = 2 * prec * rec / (prec + rec)\n",
    "\n",
    "\n",
    "    if acc > 0.75 :\n",
    "        w_s.append(w)\n",
    "\n",
    "    accs.append(acc)\n",
    "    precs.append(prec)\n",
    "    recs.append(recs)\n",
    "    F1s.append(F1score)\n",
    "    conf_matrix = np.array([[TP, FP], [FN, TN]])\n",
    "    print(f\"Iteration {i} of {max_iters} finished.\")\n",
    "    print(f\"Accuracy : {acc}, Loss : {loss}, F1score : {F1score}\")\n",
    "        \n",
    "w_s = np.asarray(w_s)\n",
    "print(\"lambda = \",lambda_,\"| Accuracy moyenne :\",np.mean(accs),\"| Acc>0.75 :\",w_s.shape[0])\n",
    "\n"
   ]
  },
  {
   "cell_type": "code",
   "execution_count": 94,
   "metadata": {},
   "outputs": [
    {
     "data": {
      "image/png": "[encoded data removed]",
      "text/plain": [
       "<Figure size 640x480 with 1 Axes>"
      ]
     },
     "metadata": {},
     "output_type": "display_data"
    }
   ],
   "source": [
    "plt.figure()\n",
    "plt.plot(np.linspace(0, max_iters, max_iters), accs)\n",
    "#plt.plot(np.linspace(0, max_iters, max_iters), losses)\n",
    "plt.xlabel(\"Iterations\")\n",
    "plt.ylabel(\"Accuracy\")\n",
    "plt.show()"
   ]
  },
  {
   "cell_type": "code",
   "execution_count": 95,
   "metadata": {},
   "outputs": [
    {
     "data": {
      "image/png": "[encoded data removed]",
      "text/plain": [
       "<Figure size 640x480 with 1 Axes>"
      ]
     },
     "metadata": {},
     "output_type": "display_data"
    }
   ],
   "source": [
    "plt.figure()\n",
    "plt.plot(np.linspace(0, max_iters, max_iters), losses)\n",
    "plt.xlabel(\"Iterations\")\n",
    "plt.ylabel(\"Loss\")\n",
    "plt.show()"
   ]
  },
  {
   "cell_type": "code",
   "execution_count": 96,
   "metadata": {},
   "outputs": [
    {
     "data": {
      "image/png": "[encoded data removed]",
      "text/plain": [
       "<Figure size 640x480 with 1 Axes>"
      ]
     },
     "metadata": {},
     "output_type": "display_data"
    }
   ],
   "source": [
    "plt.figure()\n",
    "plt.plot(np.linspace(0, max_iters, max_iters), F1s)\n",
    "plt.xlabel(\"Iterations\")\n",
    "plt.ylabel(\"F1score\")\n",
    "plt.show()"
   ]
  },
  {
   "cell_type": "code",
   "execution_count": 97,
   "metadata": {},
   "outputs": [
    {
     "data": {
      "text/plain": [
       "' y_baseline = baseline_prediction(y_test)\\nprint(np.shape(y_baseline)) '"
      ]
     },
     "execution_count": 97,
     "metadata": {},
     "output_type": "execute_result"
    }
   ],
   "source": [
    "def baseline_prediction(y):\n",
    "    \"\"\" \n",
    "    Baseline prediction for logistic regression\n",
    "    Args:\n",
    "    y: input data\n",
    "    \"\"\"\n",
    "    y_pred = np.random.choice([-1,1], size=len(y))\n",
    "    return y_pred\n",
    "\n",
    "\"\"\" y_baseline = baseline_prediction(y_test)\n",
    "print(np.shape(y_baseline)) \"\"\""
   ]
  },
  {
   "cell_type": "code",
   "execution_count": 98,
   "metadata": {},
   "outputs": [
    {
     "ename": "NameError",
     "evalue": "name 'y_baseline' is not defined",
     "output_type": "error",
     "traceback": [
      "\u001b[0;31m---------------------------------------------------------------------------\u001b[0m",
      "\u001b[0;31mNameError\u001b[0m                                 Traceback (most recent call last)",
      "\u001b[1;32m/home/username/XD/Uni local/ML_Project1/run.ipynb Cell 24\u001b[0m line \u001b[0;36m2\n\u001b[1;32m      <a href='vscode-notebook-cell:/home/username/XD/Uni%20local/ML_Project1/run.ipynb#X32sZmlsZQ%3D%3D?line=0'>1</a>\u001b[0m \u001b[39m#Create baseline prediction file\u001b[39;00m\n\u001b[0;32m----> <a href='vscode-notebook-cell:/home/username/XD/Uni%20local/ML_Project1/run.ipynb#X32sZmlsZQ%3D%3D?line=1'>2</a>\u001b[0m helpers\u001b[39m.\u001b[39mcreate_csv_submission(test_ids, y_baseline, \u001b[39m\"\u001b[39m\u001b[39mbaseline\u001b[39m\u001b[39m\"\u001b[39m)\n",
      "\u001b[0;31mNameError\u001b[0m: name 'y_baseline' is not defined"
     ]
    }
   ],
   "source": [
    "#Create baseline prediction file\n",
    "helpers.create_csv_submission(test_ids, y_baseline, \"baseline\")"
   ]
  },
  {
   "cell_type": "markdown",
   "metadata": {},
   "source": [
    "## Create an AI-Crowd submission"
   ]
  },
  {
   "cell_type": "code",
   "execution_count": null,
   "metadata": {},
   "outputs": [],
   "source": [
    "### Generate first submission\n",
    "x_test = handle_nan_values(x_test, delete_nan_columns=False)\n",
    "x_test, _, _  = standardize(x_test)\n",
    "y_test = predict_y(w, x_test[:, best_feature_indices])\n",
    "\n",
    "helpers.create_csv_submission(test_ids, y_test, \"AI_crowd_submission3\")\n"
   ]
  },
  {
   "cell_type": "markdown",
   "metadata": {},
   "source": [
    "## Evaluating all methods with different gamma"
   ]
  },
  {
   "cell_type": "code",
   "execution_count": null,
   "metadata": {},
   "outputs": [],
   "source": [
    "def calculate_acc_and_fone(y, tx, w):\n",
    "    y_1 = tx.dot(w)\n",
    "    y_2 = compute_sigmoid(y_1)\n",
    "    y_pred = y_2.copy()\n",
    "    y_pred[y_2>0.5] = 1\n",
    "    y_pred[y_2<=0.5] = -1\n",
    "    \n",
    "    TP = 0\n",
    "    FP = 0\n",
    "    TN = 0\n",
    "    FN = 0\n",
    "    for pred in range(len(y_pred)):\n",
    "        if (y_pred[pred] == 1 and y[pred] == 1):\n",
    "            TP+=1\n",
    "        elif (y_pred[pred] == 1 and y[pred] == -1):\n",
    "            FP+=1\n",
    "        elif (y_pred[pred] == -1 and y[pred] == 1):\n",
    "            FN+=1\n",
    "        else :\n",
    "            TN+=1\n",
    "    acc = (TP+TN)/len(y_pred)\n",
    "    if TP + FP == 0:\n",
    "        prec = 0  # Avoid division by zero\n",
    "    else:\n",
    "        prec = TP / (TP + FP)\n",
    "\n",
    "\n",
    "    if TP + FN == 0:\n",
    "        rec = 0  # Avoid division by zero\n",
    "    else:\n",
    "        rec = TP / (TP + FN)\n",
    "\n",
    "\n",
    "    if prec + rec == 0:\n",
    "        F1score = 0  # Avoid division by zero\n",
    "    else:\n",
    "        F1score = 2 * prec * rec / (prec + rec)\n",
    "\n",
    "    return acc, F1score\n",
    "\n"
   ]
  },
  {
   "cell_type": "code",
   "execution_count": null,
   "metadata": {},
   "outputs": [],
   "source": [
    "\n",
    "N, D = tx.shape\n",
    "\n",
    "# divide dataset into train and test data in order to test prediction on other data than was used for testing\n",
    "train_data_size = int(N/2)\n",
    "local_test_data_size = N - train_data_size\n",
    "\n",
    "x_local = tx[:train_data_size, :]\n",
    "y_local = y[:train_data_size]\n",
    "x_local_test = tx[train_data_size:, :]\n",
    "y_local_test = y[train_data_size:]\n",
    "\n",
    "initial_w = np.random.uniform(-np.sqrt(6.0 / (num_features + 1)), np.sqrt(6.0 / (num_features + 1)), (num_features,))\n",
    "\n",
    "max_iters=100\n",
    "batch_size = 1\n",
    "\n",
    "gammas = np.array([0.1, 0.01, 0.001, 0.0001])\n",
    "\n",
    "# Evaluate mean_squarred_error_gd\n",
    "acc_mse_gd = []\n",
    "f1_mse_gd = []\n",
    "for gamma in gammas:\n",
    "    w, loss = mean_squared_error_gd(y_local, x_local, initial_w, max_iters, gamma)\n",
    "    acc, f1 = calculate_acc_and_fone(y_local_test, x_local_test, w)\n",
    "    acc_mse_gd.append(acc)\n",
    "    f1_mse_gd.append(f1)\n",
    "\n",
    "# Evaluate mean_squared_error_sgd\n",
    "acc_mse_sgd = []\n",
    "f1_mse_sgd = []\n",
    "for gamma in gammas:\n",
    "    w, loss = mean_squared_error_sgd(y_local, x_local, initial_w, max_iters, gamma, batch_size=128, num_batches=16)\n",
    "    acc, f1 = calculate_acc_and_fone(y_local_test, x_local_test, w)\n",
    "    acc_mse_sgd.append(acc)\n",
    "    f1_mse_sgd.append(f1)\n",
    "\n",
    "# Evaluate logistic_regression\n",
    "if False:\n",
    "    acc_log_reg = []\n",
    "    f1_log_reg = []\n",
    "    for gamma in gammas:\n",
    "        w, loss = reg_logistic_regression(y_local, x_local, initial_w, max_iters, gamma, lambda_)\n",
    "        acc, f1 = calculate_acc_and_fone(y_local_test, x_local_test, w)\n",
    "        acc_log_reg.append(acc)\n",
    "        f1_log_reg.append(f1)\n",
    "\n",
    "# Evaluate reg_logistic_regression\n",
    "if False:\n",
    "    acc_reg_log_reg = []\n",
    "    f1_reg_log_reg = []\n",
    "    for gamma in gammas:\n",
    "        w, loss = reg_logistic_regression(y_local, x_local, initial_w, max_iters, gamma, lambda_)\n",
    "        acc, f1 = calculate_acc_and_fone(y_local_test, x_local_test, w)\n",
    "        acc_reg_log_reg.append(acc)\n",
    "        f1_reg_log_reg.append(f1)\n",
    "\n",
    "\n"
   ]
  },
  {
   "cell_type": "code",
   "execution_count": null,
   "metadata": {},
   "outputs": [
    {
     "data": {
      "image/png": "[encoded data removed]",
      "text/plain": [
       "<Figure size 640x480 with 1 Axes>"
      ]
     },
     "metadata": {},
     "output_type": "display_data"
    }
   ],
   "source": [
    "plt.figure()\n",
    "plt.plot(gammas, acc_mse_gd, label=\"Accuracy MSE with GD\", color=\"b\")\n",
    "plt.plot(gammas, f1_mse_gd, label=\"F1 MSE with GD\", linestyle = 'dotted', color=\"b\")\n",
    "plt.plot(gammas, acc_mse_sgd, label=\"Accuracy MSE with SGD\", color=\"g\")\n",
    "plt.plot(gammas, f1_mse_sgd, label=\"F1 MSE with SGD\", linestyle = 'dotted', color=\"g\")\n",
    "\n",
    "plt.legend()\n",
    "\n",
    "plt.xlabel(\"Gamma\")\n",
    "plt.ylabel(\"Accuracy and F1\")\n",
    "\n",
    "plt.grid(axis = 'y')\n",
    "\n",
    "plt.show()"
   ]
  },
  {
   "cell_type": "markdown",
   "metadata": {},
   "source": [
    "## Plotting features for linear separation"
   ]
  },
  {
   "cell_type": "code",
   "execution_count": 130,
   "metadata": {},
   "outputs": [
    {
     "name": "stdout",
     "output_type": "stream",
     "text": [
      "[nan nan nan ...  3. nan nan]\n"
     ]
    },
    {
     "data": {
      "image/png": "[encoded data removed]",
      "text/plain": [
       "<Figure size 640x480 with 1 Axes>"
      ]
     },
     "metadata": {},
     "output_type": "display_data"
    }
   ],
   "source": [
    "# [100 117 116 115 114 113 112 111 110 109 108 107 106 105 104 103 102 101 159 320]\n",
    "\n",
    "ones = y_train==1\n",
    "minus_ones = y_train==-1\n",
    "\n",
    "x_points_one = x_train_orig[:, 101][ones]\n",
    "x_points_minus_one = x_train_orig[:, 101][minus_ones]\n",
    "\n",
    "y_points_one = x_train_orig[:, 108][ones]\n",
    "y_points_minus_one = x_train_orig[:, 108][minus_ones]\n",
    "\n",
    "plt.figure()\n",
    "\n",
    "plt.scatter(x_points_one, y_points_one, color=\"r\", label=\"points predicting one\")\n",
    "plt.scatter(x_points_minus_one, y_points_minus_one, color=\"b\", label=\"points predicting minus one\")\n",
    "\n",
    "plt.legend()\n",
    "\n",
    "plt.xlabel(\"aaa\")\n",
    "plt.ylabel(\"bbb\")\n",
    "\n",
    "plt.show()\n"
   ]
  }
 ],
 "metadata": {
  "kernelspec": {
   "display_name": "CIVIL-459",
   "language": "python",
   "name": "python3"
  },
  "language_info": {
   "codemirror_mode": {
    "name": "ipython",
    "version": 3
   },
   "file_extension": ".py",
   "mimetype": "text/x-python",
   "name": "python",
   "nbconvert_exporter": "python",
   "pygments_lexer": "ipython3",
   "version": "3.11.5"
  }
 },
 "nbformat": 4,
 "nbformat_minor": 2
}
