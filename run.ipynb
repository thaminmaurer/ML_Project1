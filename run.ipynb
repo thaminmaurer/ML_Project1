{
 "cells": [
  {
   "attachments": {},
   "cell_type": "markdown",
   "metadata": {},
   "source": [
    "# CS-433 Machine learning project 1"
   ]
  },
  {
   "cell_type": "code",
   "execution_count": 1,
   "metadata": {},
   "outputs": [],
   "source": [
    "import numpy as np\n",
    "import matplotlib.pyplot as plt\n",
    "import helpers\n",
    "from implementations import *\n",
    "\n",
    "%load_ext autoreload\n",
    "%autoreload 2"
   ]
  },
  {
   "cell_type": "code",
   "execution_count": 2,
   "metadata": {},
   "outputs": [],
   "source": [
    "# x_train = np.genfromtxt(\"data/dataset/x_train.csv\", delimiter=',', skip_header=1)\n",
    "# y_train = np.genfromtxt(\"data/dataset/y_train.csv\", delimiter=',', skip_header=1)\n",
    "# x_test =  np.genfromtxt(\"data/dataset/x_test.csv\", delimiter=',', skip_header=1)\n",
    "x_train, x_test, y_train, train_ids, test_ids = helpers.load_csv_data(\"data/dataset\")"
   ]
  },
  {
   "cell_type": "code",
   "execution_count": 3,
   "metadata": {},
   "outputs": [
    {
     "name": "stdout",
     "output_type": "stream",
     "text": [
      "[2015. 2015. 2015. ... 2015. 2015. 2015.]\n",
      "float64\n",
      "False\n",
      "139415\n",
      "[-1 -1 -1 ... -1 -1 -1]\n"
     ]
    }
   ],
   "source": [
    "print(x_train[:,5])\n",
    "print(x_train[0,5].dtype)\n",
    "print(np.isnan(x_train[0,5]))\n",
    "print(np.sum(np.isnan(x_train[:,10])))\n",
    "print(y_train)"
   ]
  },
  {
   "attachments": {},
   "cell_type": "markdown",
   "metadata": {},
   "source": [
    "## Nan handling"
   ]
  },
  {
   "cell_type": "code",
   "execution_count": 4,
   "metadata": {},
   "outputs": [
    {
     "name": "stdout",
     "output_type": "stream",
     "text": [
      "[     0      0      0      0      0      0      0      0      0 139415\n",
      " 139415 328103 139416 139415 328103 139433 139524 139525 188720 188720\n",
      " 188721 188720 327334 188719 189287 192544      2      1      0 159860\n",
      "      0      0      1      1      1 196334      0  43801  43801      0\n",
      "      0 284153      1      0      0      1      0      0      5 285915\n",
      "      0      0      0      0 139415 318245 139415      1      0      3\n",
      "   2471   3207   3946   4407 279663   6933   7743   8293   8728   9149\n",
      "   9432   9862  10541 191379 282510 237369  11007  11765 170906 171212\n",
      " 171522  20738  21567  22468  23149  23759  24502  26205 107829 109141\n",
      " 109407 109690 181261 181400  28647 226907 227043 227197 229088  29911\n",
      "  30600 186763 186001  31022  32080 243418 243561 266689 266689 306425\n",
      " 306426 306428 306429 306429 306629 306429 306430 306430 247299 310302\n",
      " 310320 310346 310367 310392 310403 310450 265347 325762 325769 325769\n",
      " 327339 326264 325775 325777 325777 325780 241493 318477 318489 325051\n",
      " 318505 318515 297518 309300 297543 327354 327645 327907 327907 327648\n",
      " 327648 327649 327793 327650 327650 327362 327618 314089 318284 323942\n",
      " 323941 323942 313550 313560 313564 313572 298044 320046 327036 307336\n",
      " 311136 314308 311142 312277 311151 322950 311321 323914 324421 287897\n",
      " 313435 287921 298973 298976 323261 323267 323272 323272 325495 325498\n",
      " 327539 327956 276513 273642 302161 302172 309175 299744 203924 203990\n",
      " 283588 283743 289046 323324 313056 313066 312994 313007 313014 313018\n",
      " 313027 313032 313044 313055 313067 313074      0     14 142438      0\n",
      "     22      0      0  90436 279532 279532 283603      0 123084      0\n",
      "      0      0      0      0  43801      0      0      0   1883      0\n",
      "      0      0      0      0      0   5438      0      0      0      0\n",
      "  12721  11368  23006  27073  27073      0      0      0      0      0\n",
      "      0      0      0      0      0      0  28366  26927  29382  27893\n",
      "  28958  30593      0      0      0      0  32115  37605      0      0\n",
      "      0      0      0      0      0 108727 112425      0      0 111072\n",
      " 114698 113793 184643 111257 182913 115152 116821  32496      0 117355\n",
      " 119004 112859 113785 117012 111793      0      0      0      0      0\n",
      "      0      0      0   1883   1883   1883      0      0 211378 211378\n",
      "  32080]\n",
      "146965.04361370715\n",
      "(321,)\n",
      "321\n"
     ]
    }
   ],
   "source": [
    "\n",
    "#calculate number number of nan per column\n",
    "logical_matrix = np.isnan(x_train)\n",
    "nan_per_columns = np.sum(logical_matrix, axis=0)\n",
    "print(nan_per_columns)\n",
    "average_nan = np.mean(nan_per_columns)\n",
    "print(average_nan)\n",
    "print(np.shape(nan_per_columns))\n",
    "print(np.shape(x_train)[1])"
   ]
  },
  {
   "cell_type": "code",
   "execution_count": 5,
   "metadata": {},
   "outputs": [],
   "source": [
    "# delet the columns with more nan than the average\n",
    "x_train_reduced_features = x_train[:, nan_per_columns <= average_nan]\n",
    "\n",
    "\n"
   ]
  },
  {
   "cell_type": "code",
   "execution_count": 6,
   "metadata": {},
   "outputs": [
    {
     "name": "stdout",
     "output_type": "stream",
     "text": [
      "(328135, 321)\n"
     ]
    }
   ],
   "source": [
    "print(np.shape(x_train))"
   ]
  },
  {
   "cell_type": "code",
   "execution_count": 7,
   "metadata": {},
   "outputs": [
    {
     "name": "stdout",
     "output_type": "stream",
     "text": [
      "[0 0 0 0 0 0 0 0 0 0 0 0 0 0 0 0 0 0 0 0 0 0 0 0 0 0 0 0 0 0 0 0 0 0 0 0 0\n",
      " 0 0 0 0 0 0 0 0 0 0 0 0 0 0 0 0 0 0 0 0 0 0 0 0 0 0 0 0 0 0 0 0 0 0 0 0 0\n",
      " 0 0 0 0 0 0 0 0 0 0 0 0 0 0 0 0 0 0 0 0 0 0 0 0 0 0 0 0 0 0 0 0 0 0 0 0 0\n",
      " 0 0 0 0 0 0 0 0 0 0 0 0 0 0 0 0 0 0 0 0 0 0 0 0 0 0 0 0 0 0 0 0 0 0 0 0 0\n",
      " 0 0 0 0 0 0 0 0 0 0 0 0 0 0 0 0 0 0 0 0 0 0 0 0 0 0 0 0 0 0 0 0 0 0 0 0 0\n",
      " 0 0 0 0 0 0 0 0 0 0 0 0 0 0 0 0 0 0 0 0 0 0 0 0 0 0 0 0 0 0 0 0 0 0 0 0 0\n",
      " 0 0 0 0 0 0 0 0 0 0 0 0 0 0 0 0 0 0 0 0 0 0 0 0 0 0 0 0 0 0 0 0 0 0 0 0 0\n",
      " 0 0 0 0 0 0 0 0 0 0 0 0 0 0 0 0 0 0 0 0 0 0 0 0 0 0 0 0 0 0 0 0 0 0 0 0 0\n",
      " 0 0 0 0 0 0 0 0 0 0 0 0 0 0 0 0 0 0 0 0 0 0 0 0 0]\n"
     ]
    }
   ],
   "source": [
    "#replace nan values with 0:\n",
    "x_train_w_mean = x_train\n",
    "for i in range( np.shape(x_train)[1]):\n",
    "    nan_entries = np.isnan(x_train[:,i])\n",
    "    mean = np.mean(x_train[~nan_entries,i])\n",
    "\n",
    "    nan_entries = np.isnan(x_train[:,i])\n",
    "\n",
    "    x_train_w_mean[nan_entries, i] = 0\n",
    "    \n",
    "logical_matrix = np.isnan(x_train_w_mean)\n",
    "nan_per_columns2 = np.sum(logical_matrix, axis=0)\n",
    "print(nan_per_columns2)\n",
    "\n",
    "\n",
    "\n"
   ]
  },
  {
   "cell_type": "code",
   "execution_count": 8,
   "metadata": {},
   "outputs": [
    {
     "name": "stdout",
     "output_type": "stream",
     "text": [
      "[[ 1.4362964   1.33036073  1.31787257 ... -0.43830768 -0.42493604\n",
      "   0.1522069 ]\n",
      " [ 0.18877218  1.61711904  1.60160179 ... -0.43830768 -0.42493604\n",
      "  -1.19716795]\n",
      " [-0.62211856  1.04360241  1.04274121 ...  0.09962797  0.56745845\n",
      "   0.1522069 ]\n",
      " ...\n",
      " [ 0.56302944  1.04360241  1.04274121 ...  0.63756363  0.56745845\n",
      "   0.1522069 ]\n",
      " [ 0.18877218  1.61711904  1.64459107 ... -0.43830768 -0.42493604\n",
      "   0.1522069 ]\n",
      " [ 0.12639597  0.7568441   0.73321843 ... -0.43830768 -0.42493604\n",
      "   0.1522069 ]]\n"
     ]
    }
   ],
   "source": [
    "x_train_std, _, _, = standardize(x_train_w_mean)\n",
    "print(x_train_std)"
   ]
  },
  {
   "cell_type": "code",
   "execution_count": 9,
   "metadata": {},
   "outputs": [
    {
     "name": "stdout",
     "output_type": "stream",
     "text": [
      "(328135, 321)\n"
     ]
    }
   ],
   "source": [
    "\n",
    "\n",
    "print(np.shape(x_train_std))\n",
    "\n"
   ]
  },
  {
   "cell_type": "code",
   "execution_count": 10,
   "metadata": {},
   "outputs": [
    {
     "name": "stdout",
     "output_type": "stream",
     "text": [
      "There are 91.17 % -1.\n",
      "\n",
      "There are 8.83 % 1.\n",
      "\n"
     ]
    }
   ],
   "source": [
    "### Count the amount of incidents\n",
    "\n",
    "minus_ones = np.sum((y_train == -1))\n",
    "\n",
    "ones = np.sum(( y_train == 1))\n",
    "print(f\"There are {100*minus_ones/len(y_train):.2f} % -1.\\n\")\n",
    "print(f\"There are {100*ones/len(y_train):.2f} % 1.\\n\")"
   ]
  },
  {
   "cell_type": "code",
   "execution_count": null,
   "metadata": {},
   "outputs": [],
   "source": []
  },
  {
   "cell_type": "markdown",
   "metadata": {},
   "source": [
    "## Using a Chi-squared test to determine the important values\n"
   ]
  },
  {
   "cell_type": "code",
   "execution_count": 11,
   "metadata": {},
   "outputs": [
    {
     "name": "stderr",
     "output_type": "stream",
     "text": [
      "/tmp/ipykernel_6542/2622695774.py:12: RuntimeWarning: invalid value encountered in divide\n",
      "  chi2 = np.sum((contingency_table - np.mean(contingency_table))**2 / np.mean(contingency_table))\n"
     ]
    },
    {
     "name": "stdout",
     "output_type": "stream",
     "text": [
      "[100 117 116 115 114 113 112 111 110 109 108 107 106 105 104 103 102 101\n",
      " 159 320]\n"
     ]
    }
   ],
   "source": [
    "# Define a function to calculate the chi-squared values for all features\n",
    "def chi2_features(X, y):\n",
    "    chi2_scores = []\n",
    "    for feature in range(X.shape[1]):\n",
    "        # Create a contingency table\n",
    "        contingency_table = np.zeros((2, 2))\n",
    "        for i in range(2):\n",
    "            for j in range(2):\n",
    "                # Count occurrences for each combination of feature and target\n",
    "                contingency_table[i, j] = np.sum((X[:, feature] == i) & (y == j))\n",
    "        # Calculate the chi-squared statistic\n",
    "        chi2 = np.sum((contingency_table - np.mean(contingency_table))**2 / np.mean(contingency_table))\n",
    "        chi2_scores.append(chi2)\n",
    "    return chi2_scores\n",
    "\n",
    "# Calculate chi-squared values for all features\n",
    "chi2_scores = chi2_features(x_train_std, y_train)\n",
    "\n",
    "# Specify the number of top features to select (k)\n",
    "k = 20\n",
    "\n",
    "# Get the indices of the top k features with the highest chi-squared scores\n",
    "selected_feature_indices = np.argsort(chi2_scores)[-k:]\n",
    "\n",
    "print(selected_feature_indices)"
   ]
  },
  {
   "cell_type": "markdown",
   "metadata": {},
   "source": [
    "## Rebalancing the data"
   ]
  },
  {
   "cell_type": "code",
   "execution_count": 12,
   "metadata": {},
   "outputs": [
    {
     "name": "stdout",
     "output_type": "stream",
     "text": [
      "Proportion of majority class (-1) in rebalanced dataset: 0.6737306743837761\n",
      "Proportion of minority class (1) in rebalanced dataset: 0.32626932561622396\n"
     ]
    }
   ],
   "source": [
    "# Choose the desired number of instances for each class\n",
    "desired_majority_class = 0.20  # for -1\n",
    "desired_minority_class = 1  # for 1\n",
    "\n",
    "# Find the indices of the majority and minority classes\n",
    "majority_indices = np.where(y_train == -1)[0]\n",
    "minority_indices = np.where(y_train == 1)[0]\n",
    "\n",
    "# Calculate the number of samples to keep for each class\n",
    "num_samples_majority = int(desired_majority_class * len(majority_indices))\n",
    "num_samples_minority = int(desired_minority_class * len(minority_indices))\n",
    "\n",
    "# Randomly select a subset of majority class instances (undersampling)\n",
    "undersampled_majority_indices = np.random.choice(majority_indices, num_samples_majority, replace=False)\n",
    "\n",
    "# Randomly select a subset of minority class instances (oversampling)\n",
    "oversampled_minority_indices = np.random.choice(minority_indices, num_samples_minority, replace=True)\n",
    "\n",
    "# Combine the undersampled majority class with the oversampled minority class\n",
    "X_balanced = np.vstack((x_train_std[undersampled_majority_indices], x_train_std[oversampled_minority_indices]))\n",
    "y_balanced = np.hstack((y_train[undersampled_majority_indices], y_train[oversampled_minority_indices]))\n",
    "\n",
    "# Calculate the proportion of each class in the rebalanced dataset\n",
    "proportion_majority_class = np.sum(y_balanced == -1) / len(y_balanced)\n",
    "proportion_minority_class = np.sum(y_balanced == 1) / len(y_balanced)\n",
    "\n",
    "print(\"Proportion of majority class (-1) in rebalanced dataset:\", proportion_majority_class)\n",
    "print(\"Proportion of minority class (1) in rebalanced dataset:\", proportion_minority_class)\n"
   ]
  },
  {
   "cell_type": "markdown",
   "metadata": {},
   "source": [
    "## Training the model"
   ]
  },
  {
   "cell_type": "code",
   "execution_count": 13,
   "metadata": {},
   "outputs": [
    {
     "name": "stdout",
     "output_type": "stream",
     "text": [
      "Iteration 0 of 100 finished.\n",
      "Accuracy : 0.46320672919927486, Loss : 0.8117843580646354, F1score : 0.4193049346472903\n",
      "Iteration 1 of 100 finished.\n",
      "Accuracy : 0.46464805702253204, Loss : 0.8004389804658194, F1score : 0.4217516632408568\n",
      "Iteration 2 of 100 finished.\n",
      "Accuracy : 0.4851306766358508, Loss : 0.7904671001878671, F1score : 0.42919205033456503\n",
      "Iteration 3 of 100 finished.\n",
      "Accuracy : 0.48965734683076784, Loss : 0.7816705588964181, F1score : 0.43002666130087025\n",
      "Iteration 4 of 100 finished.\n",
      "Accuracy : 0.49599693717837556, Loss : 0.773878242163201, F1score : 0.41409553231317003\n",
      "Iteration 5 of 100 finished.\n",
      "Accuracy : 0.497854898825543, Loss : 0.7669442052946011, F1score : 0.4166906474820144\n",
      "Iteration 6 of 100 finished.\n",
      "Accuracy : 0.49817018928688056, Loss : 0.7607448376365833, F1score : 0.4174226777170645\n",
      "Iteration 7 of 100 finished.\n",
      "Accuracy : 0.5066830317429932, Loss : 0.755175883946931, F1score : 0.42230602879898727\n",
      "Iteration 8 of 100 finished.\n",
      "Accuracy : 0.5072798315448107, Loss : 0.7501496320442202, F1score : 0.42436361244491216\n",
      "Iteration 9 of 100 finished.\n",
      "Accuracy : 0.5091377931919782, Loss : 0.7455923796313675, F1score : 0.4269488628894439\n",
      "Iteration 10 of 100 finished.\n",
      "Accuracy : 0.509588208136746, Loss : 0.7414422110647448, F1score : 0.42873632571683407\n",
      "Iteration 11 of 100 finished.\n",
      "Accuracy : 0.5109281925974304, Loss : 0.7376470762880183, F1score : 0.42955646908942857\n",
      "Iteration 12 of 100 finished.\n",
      "Accuracy : 0.510736766245904, Loss : 0.7341631486392217, F1score : 0.4308804652503079\n",
      "Iteration 13 of 100 finished.\n",
      "Accuracy : 0.5123469996734492, Loss : 0.7309534339316967, F1score : 0.43247847567128384\n",
      "Iteration 14 of 100 finished.\n",
      "Accuracy : 0.5126622901347867, Loss : 0.7279866026094463, F1score : 0.4328305397932038\n",
      "Iteration 15 of 100 finished.\n",
      "Accuracy : 0.5135856407715608, Loss : 0.7252360170089418, F1score : 0.43629862588247575\n",
      "Iteration 16 of 100 finished.\n",
      "Accuracy : 0.515713851385589, Loss : 0.7226789265117854, F1score : 0.43724484455144985\n",
      "Iteration 17 of 100 finished.\n",
      "Accuracy : 0.5208823628768002, Loss : 0.7202958048884153, F1score : 0.4379334486994888\n",
      "Iteration 18 of 100 finished.\n",
      "Accuracy : 0.5231231772270204, Loss : 0.7180698064091253, F1score : 0.4395330986474683\n",
      "Iteration 19 of 100 finished.\n",
      "Accuracy : 0.5243392975778937, Loss : 0.7159863200751501, F1score : 0.4402512389685422\n",
      "Iteration 20 of 100 finished.\n",
      "Accuracy : 0.5236073732926458, Loss : 0.7140326042719229, F1score : 0.4454232044778272\n",
      "Iteration 21 of 100 finished.\n",
      "Accuracy : 0.525161304852095, Loss : 0.7121974870034544, F1score : 0.4448452454613673\n",
      "Iteration 22 of 100 finished.\n",
      "Accuracy : 0.5253639915772406, Loss : 0.7104711194667959, F1score : 0.44559312893764225\n",
      "Iteration 23 of 100 finished.\n",
      "Accuracy : 0.5233371243257852, Loss : 0.7088447729924519, F1score : 0.457538284103287\n",
      "Iteration 24 of 100 finished.\n",
      "Accuracy : 0.5236298940398842, Loss : 0.7073106712933697, F1score : 0.4590360983593979\n",
      "Iteration 25 of 100 finished.\n",
      "Accuracy : 0.5238100600177914, Loss : 0.7058618515480007, F1score : 0.4602759307237757\n",
      "Iteration 26 of 100 finished.\n",
      "Accuracy : 0.5231456979742588, Loss : 0.7044920491237568, F1score : 0.46596383263134006\n",
      "Iteration 27 of 100 finished.\n",
      "Accuracy : 0.522357471820915, Loss : 0.703195601763804, F1score : 0.46638655462184875\n",
      "Iteration 28 of 100 finished.\n",
      "Accuracy : 0.5225601585460605, Loss : 0.7019673698525294, F1score : 0.46751061211162187\n",
      "Iteration 29 of 100 finished.\n",
      "Accuracy : 0.5230556149853052, Loss : 0.7008026699840675, F1score : 0.4698342762729685\n",
      "Iteration 30 of 100 finished.\n",
      "Accuracy : 0.5229430112491132, Loss : 0.6996972195252816, F1score : 0.47135013725979535\n",
      "Iteration 31 of 100 finished.\n",
      "Accuracy : 0.5232583017104507, Loss : 0.698647090229188, F1score : 0.4721474167165369\n",
      "Iteration 32 of 100 finished.\n",
      "Accuracy : 0.5237424977760762, Loss : 0.6976486692518884, F1score : 0.4737922540030108\n",
      "Iteration 33 of 100 finished.\n",
      "Accuracy : 0.5240803089846521, Loss : 0.6966986261820453, F1score : 0.4746622251500876\n",
      "Iteration 34 of 100 finished.\n",
      "Accuracy : 0.5240240071165562, Loss : 0.6957938849227155, F1score : 0.47529791459781523\n",
      "Iteration 35 of 100 finished.\n",
      "Accuracy : 0.5240915693582713, Loss : 0.6949315994768176, F1score : 0.4774480712166172\n",
      "Iteration 36 of 100 finished.\n",
      "Accuracy : 0.5242604749625592, Loss : 0.6941091328785135, F1score : 0.47797560945473416\n",
      "Iteration 37 of 100 finished.\n",
      "Accuracy : 0.526478768565541, Loss : 0.693324038679256, F1score : 0.47853475856253563\n",
      "Iteration 38 of 100 finished.\n",
      "Accuracy : 0.5265575911808754, Loss : 0.6925740445357798, F1score : 0.4795702385225711\n",
      "Iteration 39 of 100 finished.\n",
      "Accuracy : 0.5266927156643058, Loss : 0.6918570375570037, F1score : 0.4803234301398316\n",
      "Iteration 40 of 100 finished.\n",
      "Accuracy : 0.5271318702354544, Loss : 0.6911710511497229, F1score : 0.4808633733867379\n",
      "Iteration 41 of 100 finished.\n",
      "Accuracy : 0.5288884885200491, Loss : 0.6905142531630909, F1score : 0.4816384180790961\n",
      "Iteration 42 of 100 finished.\n",
      "Accuracy : 0.5295303298163433, Loss : 0.6898849351741977, F1score : 0.4824664626971052\n",
      "Iteration 43 of 100 finished.\n",
      "Accuracy : 0.5302059522334951, Loss : 0.6892815027862911, F1score : 0.48296630438823684\n",
      "Iteration 44 of 100 finished.\n",
      "Accuracy : 0.5309829180132197, Loss : 0.6887024668314846, F1score : 0.48371262829094147\n",
      "Iteration 45 of 100 finished.\n",
      "Accuracy : 0.5316022385622755, Loss : 0.6881464353842208, F1score : 0.4845413202146247\n",
      "Iteration 46 of 100 finished.\n",
      "Accuracy : 0.5321765176168545, Loss : 0.6876121065025625, F1score : 0.4851924363708458\n",
      "Iteration 47 of 100 finished.\n",
      "Accuracy : 0.5326269325616224, Loss : 0.6870982616229794, F1score : 0.4854075231223189\n",
      "Iteration 48 of 100 finished.\n",
      "Accuracy : 0.5311968651119844, Loss : 0.6866037595415926, F1score : 0.48554870438790515\n",
      "Iteration 49 of 100 finished.\n",
      "Accuracy : 0.5335052417039198, Loss : 0.6861275309213337, F1score : 0.48680722443822316\n",
      "Iteration 50 of 100 finished.\n",
      "Accuracy : 0.5348452261646042, Loss : 0.685668573270422, F1score : 0.4882242898026438\n",
      "Iteration 51 of 100 finished.\n",
      "Accuracy : 0.5361401691308118, Loss : 0.685225946343107, F1score : 0.48908567743215753\n",
      "Iteration 52 of 100 finished.\n",
      "Accuracy : 0.5375927573276882, Loss : 0.6847987679187791, F1score : 0.49093185565348907\n",
      "Iteration 53 of 100 finished.\n",
      "Accuracy : 0.5385724098325583, Loss : 0.6843862099203376, F1score : 0.4914997642270369\n",
      "Iteration 54 of 100 finished.\n",
      "Accuracy : 0.5404078507324873, Loss : 0.683987494837116, F1score : 0.4924580623500007\n",
      "Iteration 55 of 100 finished.\n",
      "Accuracy : 0.539991216908577, Loss : 0.6836018924216892, F1score : 0.4943934255798412\n",
      "Iteration 56 of 100 finished.\n",
      "Accuracy : 0.6209082617361245, Loss : 0.6832287166335202, F1score : 0.5133423920899708\n",
      "Iteration 57 of 100 finished.\n",
      "Accuracy : 0.620773137252694, Loss : 0.6828673228056572, F1score : 0.5135486480240352\n",
      "Iteration 58 of 100 finished.\n",
      "Accuracy : 0.6205591901539294, Loss : 0.6825171050135789, F1score : 0.5137307531350563\n",
      "Iteration 59 of 100 finished.\n",
      "Accuracy : 0.6204691071649757, Loss : 0.682177493627829, F1score : 0.5139239411026666\n",
      "Iteration 60 of 100 finished.\n",
      "Accuracy : 0.6202664204398302, Loss : 0.6818479530342927, F1score : 0.5142108068396261\n",
      "Iteration 61 of 100 finished.\n",
      "Accuracy : 0.6207843976263132, Loss : 0.6815279795079002, F1score : 0.5145797598627788\n",
      "Iteration 62 of 100 finished.\n",
      "Accuracy : 0.620942042856982, Loss : 0.681217099227204, F1score : 0.5150471800043219\n",
      "Iteration 63 of 100 finished.\n",
      "Accuracy : 0.6210208654723164, Loss : 0.6809148664187107, F1score : 0.5153086206399953\n",
      "Iteration 64 of 100 finished.\n",
      "Accuracy : 0.621054646593174, Loss : 0.6806208616210682, F1score : 0.515512301867235\n",
      "Iteration 65 of 100 finished.\n",
      "Accuracy : 0.6210659069667932, Loss : 0.6803346900602742, F1score : 0.515784626895738\n",
      "Iteration 66 of 100 finished.\n",
      "Accuracy : 0.6210996880876507, Loss : 0.6800559801279599, F1score : 0.5160018986522446\n",
      "Iteration 67 of 100 finished.\n",
      "Accuracy : 0.6211785107029851, Loss : 0.6797843819555786, F1score : 0.5165962582981292\n",
      "Iteration 68 of 100 finished.\n",
      "Accuracy : 0.6211222088348891, Loss : 0.6795195660779988, F1score : 0.5166285968768406\n",
      "Iteration 69 of 100 finished.\n",
      "Accuracy : 0.6210771673404124, Loss : 0.6792612221805622, F1score : 0.516737753651286\n",
      "Iteration 70 of 100 finished.\n",
      "Accuracy : 0.6211672503293659, Loss : 0.6790090579241698, F1score : 0.5170745711619896\n",
      "Iteration 71 of 100 finished.\n",
      "Accuracy : 0.6210771673404124, Loss : 0.6787627978433894, F1score : 0.5171122304016531\n",
      "Iteration 72 of 100 finished.\n",
      "Accuracy : 0.62082943912079, Loss : 0.6785221823129605, F1score : 0.517239896202205\n",
      "Iteration 73 of 100 finished.\n",
      "Accuracy : 0.6206492731428829, Loss : 0.6782869665783936, F1score : 0.5176190953478715\n",
      "Iteration 74 of 100 finished.\n",
      "Accuracy : 0.6207168353845981, Loss : 0.678056919846687, F1score : 0.5178154749123184\n",
      "Iteration 75 of 100 finished.\n",
      "Accuracy : 0.6207055750109789, Loss : 0.6778318244334214, F1score : 0.5181115879828326\n",
      "Iteration 76 of 100 finished.\n",
      "Accuracy : 0.6206717938901213, Loss : 0.6776114749627578, F1score : 0.5182271927691889\n",
      "Iteration 77 of 100 finished.\n",
      "Accuracy : 0.6207393561318365, Loss : 0.6773956776170786, F1score : 0.5198922355423147\n",
      "Iteration 78 of 100 finished.\n",
      "Accuracy : 0.6206717938901213, Loss : 0.6771842494332121, F1score : 0.5200393235214499\n",
      "Iteration 79 of 100 finished.\n",
      "Accuracy : 0.6206605335165021, Loss : 0.6769770176423734, F1score : 0.5200729407071829\n",
      "Iteration 80 of 100 finished.\n",
      "Accuracy : 0.6206267523956445, Loss : 0.6767738190511272, F1score : 0.5202694043771091\n",
      "Iteration 81 of 100 finished.\n",
      "Accuracy : 0.6207055750109789, Loss : 0.6765744994608397, F1score : 0.5207444084002049\n",
      "Iteration 82 of 100 finished.\n",
      "Accuracy : 0.6207055750109789, Loss : 0.6763789131232387, F1score : 0.5210578700412342\n",
      "Iteration 83 of 100 finished.\n",
      "Accuracy : 0.6206830542637405, Loss : 0.676186922229847, F1score : 0.5215600499943188\n",
      "Iteration 84 of 100 finished.\n",
      "Accuracy : 0.6206492731428829, Loss : 0.6759983964331806, F1score : 0.5216736948218825\n",
      "Iteration 85 of 100 finished.\n",
      "Accuracy : 0.6207168353845981, Loss : 0.6758132123977406, F1score : 0.5219760725487136\n",
      "Iteration 86 of 100 finished.\n",
      "Accuracy : 0.6208069183735516, Loss : 0.6756312533789349, F1score : 0.5222929936305732\n",
      "Iteration 87 of 100 finished.\n",
      "Accuracy : 0.620773137252694, Loss : 0.675452408828185, F1score : 0.5229204442429738\n",
      "Iteration 88 of 100 finished.\n",
      "Accuracy : 0.6208069183735516, Loss : 0.6752765740225788, F1score : 0.5230642854107949\n",
      "Iteration 89 of 100 finished.\n",
      "Accuracy : 0.620885740988886, Loss : 0.6751036497175269, F1score : 0.5232782057091074\n",
      "Iteration 90 of 100 finished.\n",
      "Accuracy : 0.6207280957582173, Loss : 0.6749335418209754, F1score : 0.5233499377334994\n",
      "Iteration 91 of 100 finished.\n",
      "Accuracy : 0.6206830542637405, Loss : 0.6747661610878207, F1score : 0.5234282157206723\n",
      "Iteration 92 of 100 finished.\n",
      "Accuracy : 0.6205141486594525, Loss : 0.6746014228332485, F1score : 0.5235732360716456\n",
      "Iteration 93 of 100 finished.\n",
      "Accuracy : 0.6203790241760222, Loss : 0.6744392466638056, F1score : 0.5236056353950287\n",
      "Iteration 94 of 100 finished.\n",
      "Accuracy : 0.6203002015606878, Loss : 0.6742795562250815, F1score : 0.5237019040623764\n",
      "Iteration 95 of 100 finished.\n",
      "Accuracy : 0.620198858198115, Loss : 0.6741222789649526, F1score : 0.5237295076180121\n",
      "Iteration 96 of 100 finished.\n",
      "Accuracy : 0.6202776808134494, Loss : 0.6739673459114016, F1score : 0.5235390527862552\n",
      "Iteration 97 of 100 finished.\n",
      "Accuracy : 0.6203227223079262, Loss : 0.6738146914639914, F1score : 0.5236897866930358\n",
      "Iteration 98 of 100 finished.\n",
      "Accuracy : 0.6202776808134494, Loss : 0.6736642531981328, F1score : 0.5237274730241229\n",
      "Iteration 99 of 100 finished.\n",
      "Accuracy : 0.6202326393189727, Loss : 0.6735159716813286, F1score : 0.5237113402061855\n",
      "lambda =  0.001 | Accuracy moyenne : 0.5640071165561273 | Acc>0.75 : 0\n"
     ]
    }
   ],
   "source": [
    "best_feature_indices = [16, 22, 28, 41, 52, 71, 234, 236]\n",
    "\n",
    "#tx = x_train_std[:, selected_feature_indices] # change input data here\n",
    "#tx = x_train_std[:, 10:321] # change input data here\n",
    "tx = X_balanced[:, selected_feature_indices] # change input data here\n",
    "\n",
    "#y = y_train[:] # change target value here\n",
    "y = y_balanced[:] # change target value here\n",
    "y = y.reshape(-1,)\n",
    "\n",
    "\n",
    "\n",
    "w_s=[]\n",
    "losses=[]\n",
    "\n",
    "# Number of features\n",
    "num_features = tx.shape[1]\n",
    "\n",
    "\"\"\" # Initialize weights randomly\n",
    "w = np.random.uniform(-1, 1, (num_features,)) \"\"\"\n",
    "\n",
    "# Initialize weights using Xavier/Glorot initialization\n",
    "w = np.random.uniform(-np.sqrt(6.0 / (num_features + 1)), np.sqrt(6.0 / (num_features + 1)), (num_features,))\n",
    "\n",
    "\"\"\" # Initialize weights to near zero\n",
    "w = np.full((num_features ,), 1e-16)  \"\"\"\n",
    "\n",
    "max_iters=100\n",
    "accs=[]\n",
    "precs=[]\n",
    "recs=[]\n",
    "F1s=[]\n",
    "batch_size = 1\n",
    "lambda_ = 1e-3\n",
    "gamma = 0.001\n",
    "\n",
    "for i in range(max_iters):\n",
    "\n",
    "    #1) mean_squared_error_gd\n",
    "    #w, loss = mean_squared_error_gd(y, tx, w, max_iters, gamma)\n",
    "\n",
    "    #2) mean_squared_error_sgd\n",
    "    #w, loss = mean_squared_error_sgd(y, tx, w, max_iters, gamma,  batch_size, num_batches=1) \n",
    "\n",
    "    #3) least_squares\n",
    "    #w, loss = least_squares(y, tx)  # change input data here, matrix is not invertible[10, 12, 14/15/20/69]\n",
    "\n",
    "    #4) ridge_regression\n",
    "    #w, loss = ridge_regression(y, tx, lambda_)\n",
    "\n",
    "    #5) logistic_regression\n",
    "    #w, loss = logistic_regression_minusone_one(y, tx, w, max_iters, gamma)\n",
    "\n",
    "    #6) reg_logistic_regression\n",
    "    w, loss = reg_logistic_regression(y, tx, lambda_, w, max_iters, gamma) \n",
    "\n",
    "    #7) logistic_regression with mini-batch\n",
    "    #w, loss = logistic_regression_with_mb(y, tx, w, max_iters, gamma, batch_size)\n",
    " \n",
    "    losses.append(loss)\n",
    "\n",
    " \n",
    "    y_1 = tx.dot(w)\n",
    "    y_2 = compute_sigmoid(y_1)\n",
    "    y_pred = y_2.copy()\n",
    "    y_pred[y_2>0.5] = 1\n",
    "    y_pred[y_2<=0.5] = -1\n",
    "    \n",
    "    TP = 0\n",
    "    FP = 0\n",
    "    TN = 0\n",
    "    FN = 0\n",
    "    for pred in range(len(y_pred)):\n",
    "        if (y_pred[pred] == 1 and y[pred] == 1):\n",
    "            TP+=1\n",
    "        elif (y_pred[pred] == 1 and y[pred] == -1):\n",
    "            FP+=1\n",
    "        elif (y_pred[pred] == -1 and y[pred] == 1):\n",
    "            FN+=1\n",
    "        else :\n",
    "            TN+=1\n",
    "    acc = (TP+TN)/len(y_pred)\n",
    "    if TP + FP == 0:\n",
    "        prec = 0  # Avoid division by zero\n",
    "    else:\n",
    "        prec = TP / (TP + FP)\n",
    "\n",
    "\n",
    "    if TP + FN == 0:\n",
    "        rec = 0  # Avoid division by zero\n",
    "    else:\n",
    "        rec = TP / (TP + FN)\n",
    "\n",
    "\n",
    "    if prec + rec == 0:\n",
    "        F1score = 0  # Avoid division by zero\n",
    "    else:\n",
    "        F1score = 2 * prec * rec / (prec + rec)\n",
    "\n",
    "\n",
    "    if acc > 0.75 :\n",
    "        w_s.append(w)\n",
    "\n",
    "    accs.append(acc)\n",
    "    precs.append(prec)\n",
    "    recs.append(recs)\n",
    "    F1s.append(F1score)\n",
    "    conf_matrix = np.array([[TP, FP], [FN, TN]])\n",
    "    print(f\"Iteration {i} of {max_iters} finished.\")\n",
    "    print(f\"Accuracy : {acc}, Loss : {loss}, F1score : {F1score}\")\n",
    "        \n",
    "w_s = np.asarray(w_s)\n",
    "print(\"lambda = \",lambda_,\"| Accuracy moyenne :\",np.mean(accs),\"| Acc>0.75 :\",w_s.shape[0])\n",
    "\n"
   ]
  },
  {
   "cell_type": "code",
   "execution_count": 14,
   "metadata": {},
   "outputs": [
    {
     "data": {
      "image/png": "[encoded data removed]",
      "text/plain": [
       "<Figure size 640x480 with 1 Axes>"
      ]
     },
     "metadata": {},
     "output_type": "display_data"
    }
   ],
   "source": [
    "plt.figure()\n",
    "plt.plot(np.linspace(0, max_iters, max_iters), accs)\n",
    "#plt.plot(np.linspace(0, max_iters, max_iters), losses)\n",
    "plt.xlabel(\"Iterations\")\n",
    "plt.ylabel(\"Accuracy\")\n",
    "plt.show()"
   ]
  },
  {
   "cell_type": "code",
   "execution_count": 15,
   "metadata": {},
   "outputs": [
    {
     "data": {
      "image/png": "[encoded data removed]",
      "text/plain": [
       "<Figure size 640x480 with 1 Axes>"
      ]
     },
     "metadata": {},
     "output_type": "display_data"
    }
   ],
   "source": [
    "plt.figure()\n",
    "plt.plot(np.linspace(0, max_iters, max_iters), losses)\n",
    "plt.xlabel(\"Iterations\")\n",
    "plt.ylabel(\"Loss\")\n",
    "plt.show()"
   ]
  },
  {
   "cell_type": "code",
   "execution_count": 16,
   "metadata": {},
   "outputs": [
    {
     "data": {
      "image/png": "[encoded data removed]",
      "text/plain": [
       "<Figure size 640x480 with 1 Axes>"
      ]
     },
     "metadata": {},
     "output_type": "display_data"
    }
   ],
   "source": [
    "plt.figure()\n",
    "plt.plot(np.linspace(0, max_iters, max_iters), F1s)\n",
    "plt.xlabel(\"Iterations\")\n",
    "plt.ylabel(\"F1score\")\n",
    "plt.show()"
   ]
  },
  {
   "cell_type": "code",
   "execution_count": 17,
   "metadata": {},
   "outputs": [
    {
     "data": {
      "text/plain": [
       "' y_baseline = baseline_prediction(y_test)\\nprint(np.shape(y_baseline)) '"
      ]
     },
     "execution_count": 17,
     "metadata": {},
     "output_type": "execute_result"
    }
   ],
   "source": [
    "def baseline_prediction(y):\n",
    "    \"\"\" \n",
    "    Baseline prediction for logistic regression\n",
    "    Args:\n",
    "    y: input data\n",
    "    \"\"\"\n",
    "    y_pred = np.random.choice([-1,1], size=len(y))\n",
    "    return y_pred\n",
    "\n",
    "\"\"\" y_baseline = baseline_prediction(y_test)\n",
    "print(np.shape(y_baseline)) \"\"\""
   ]
  },
  {
   "cell_type": "code",
   "execution_count": 18,
   "metadata": {},
   "outputs": [
    {
     "ename": "NameError",
     "evalue": "name 'y_baseline' is not defined",
     "output_type": "error",
     "traceback": [
      "\u001b[0;31m---------------------------------------------------------------------------\u001b[0m",
      "\u001b[0;31mNameError\u001b[0m                                 Traceback (most recent call last)",
      "\u001b[1;32m/home/username/XD/Uni local/ML_Project1/run.ipynb Cell 24\u001b[0m line \u001b[0;36m2\n\u001b[1;32m      <a href='vscode-notebook-cell:/home/username/XD/Uni%20local/ML_Project1/run.ipynb#X32sZmlsZQ%3D%3D?line=0'>1</a>\u001b[0m \u001b[39m#Create baseline prediction file\u001b[39;00m\n\u001b[0;32m----> <a href='vscode-notebook-cell:/home/username/XD/Uni%20local/ML_Project1/run.ipynb#X32sZmlsZQ%3D%3D?line=1'>2</a>\u001b[0m helpers\u001b[39m.\u001b[39mcreate_csv_submission(test_ids, y_baseline, \u001b[39m\"\u001b[39m\u001b[39mbaseline\u001b[39m\u001b[39m\"\u001b[39m)\n",
      "\u001b[0;31mNameError\u001b[0m: name 'y_baseline' is not defined"
     ]
    }
   ],
   "source": [
    "#Create baseline prediction file\n",
    "helpers.create_csv_submission(test_ids, y_baseline, \"baseline\")"
   ]
  },
  {
   "cell_type": "markdown",
   "metadata": {},
   "source": [
    "## Create an AI-Crowd submission"
   ]
  },
  {
   "cell_type": "code",
   "execution_count": null,
   "metadata": {},
   "outputs": [],
   "source": [
    "### Generate first submission\n",
    "x_test = handle_nan_values(x_test, delete_nan_columns=False)\n",
    "x_test, _, _  = standardize(x_test)\n",
    "y_test = predict_y(w, x_test[:, best_feature_indices])\n",
    "\n",
    "helpers.create_csv_submission(test_ids, y_test, \"AI_crowd_submission3\")\n"
   ]
  },
  {
   "cell_type": "markdown",
   "metadata": {},
   "source": [
    "## Evaluating all methods with different gamma"
   ]
  },
  {
   "cell_type": "code",
   "execution_count": 25,
   "metadata": {},
   "outputs": [],
   "source": [
    "def calculate_acc_and_fone(y, tx, w):\n",
    "    y_1 = tx.dot(w)\n",
    "    y_2 = compute_sigmoid(y_1)\n",
    "    y_pred = y_2.copy()\n",
    "    y_pred[y_2>0.5] = 1\n",
    "    y_pred[y_2<=0.5] = -1\n",
    "    \n",
    "    TP = 0\n",
    "    FP = 0\n",
    "    TN = 0\n",
    "    FN = 0\n",
    "    for pred in range(len(y_pred)):\n",
    "        if (y_pred[pred] == 1 and y[pred] == 1):\n",
    "            TP+=1\n",
    "        elif (y_pred[pred] == 1 and y[pred] == -1):\n",
    "            FP+=1\n",
    "        elif (y_pred[pred] == -1 and y[pred] == 1):\n",
    "            FN+=1\n",
    "        else :\n",
    "            TN+=1\n",
    "    acc = (TP+TN)/len(y_pred)\n",
    "    if TP + FP == 0:\n",
    "        prec = 0  # Avoid division by zero\n",
    "    else:\n",
    "        prec = TP / (TP + FP)\n",
    "\n",
    "\n",
    "    if TP + FN == 0:\n",
    "        rec = 0  # Avoid division by zero\n",
    "    else:\n",
    "        rec = TP / (TP + FN)\n",
    "\n",
    "\n",
    "    if prec + rec == 0:\n",
    "        F1score = 0  # Avoid division by zero\n",
    "    else:\n",
    "        F1score = 2 * prec * rec / (prec + rec)\n",
    "\n",
    "    return acc, F1score\n",
    "\n"
   ]
  },
  {
   "cell_type": "code",
   "execution_count": 35,
   "metadata": {},
   "outputs": [],
   "source": [
    "\n",
    "N, D = tx.shape\n",
    "\n",
    "# divide dataset into train and test data in order to test prediction on other data than was used for testing\n",
    "train_data_size = int(N/2)\n",
    "local_test_data_size = N - train_data_size\n",
    "\n",
    "x_local = tx[:train_data_size, :]\n",
    "y_local = y[:train_data_size]\n",
    "x_local_test = tx[train_data_size:, :]\n",
    "y_local_test = y[train_data_size:]\n",
    "\n",
    "initial_w = np.random.uniform(-np.sqrt(6.0 / (num_features + 1)), np.sqrt(6.0 / (num_features + 1)), (num_features,))\n",
    "\n",
    "max_iters=100\n",
    "batch_size = 1\n",
    "\n",
    "gammas = np.array([0.1, 0.01, 0.001, 0.0001])\n",
    "\n",
    "# Evaluate mean_squarred_error_gd\n",
    "acc_mse_gd = []\n",
    "f1_mse_gd = []\n",
    "for gamma in gammas:\n",
    "    w, loss = mean_squared_error_gd(y_local, x_local, initial_w, max_iters, gamma)\n",
    "    acc, f1 = calculate_acc_and_fone(y_local_test, x_local_test, w)\n",
    "    acc_mse_gd.append(acc)\n",
    "    f1_mse_gd.append(f1)\n",
    "\n",
    "# Evaluate mean_squared_error_sgd\n",
    "acc_mse_sgd = []\n",
    "f1_mse_sgd = []\n",
    "for gamma in gammas:\n",
    "    w, loss = mean_squared_error_sgd(y_local, x_local, initial_w, max_iters, gamma, batch_size=128, num_batches=16)\n",
    "    acc, f1 = calculate_acc_and_fone(y_local_test, x_local_test, w)\n",
    "    acc_mse_sgd.append(acc)\n",
    "    f1_mse_sgd.append(f1)\n",
    "\n",
    "# Evaluate logistic_regression\n",
    "if False:\n",
    "    acc_log_reg = []\n",
    "    f1_log_reg = []\n",
    "    for gamma in gammas:\n",
    "        w, loss = reg_logistic_regression(y_local, x_local, initial_w, max_iters, gamma, lambda_)\n",
    "        acc, f1 = calculate_acc_and_fone(y_local_test, x_local_test, w)\n",
    "        acc_log_reg.append(acc)\n",
    "        f1_log_reg.append(f1)\n",
    "\n",
    "# Evaluate reg_logistic_regression\n",
    "if False:\n",
    "    acc_reg_log_reg = []\n",
    "    f1_reg_log_reg = []\n",
    "    for gamma in gammas:\n",
    "        w, loss = reg_logistic_regression(y_local, x_local, initial_w, max_iters, gamma, lambda_)\n",
    "        acc, f1 = calculate_acc_and_fone(y_local_test, x_local_test, w)\n",
    "        acc_reg_log_reg.append(acc)\n",
    "        f1_reg_log_reg.append(f1)\n",
    "\n",
    "\n"
   ]
  },
  {
   "cell_type": "code",
   "execution_count": 53,
   "metadata": {},
   "outputs": [
    {
     "data": {
      "image/png": "[encoded data removed]",
      "text/plain": [
       "<Figure size 640x480 with 1 Axes>"
      ]
     },
     "metadata": {},
     "output_type": "display_data"
    }
   ],
   "source": [
    "plt.figure()\n",
    "plt.plot(gammas, acc_mse_gd, label=\"Accuracy MSE with GD\", color=\"b\")\n",
    "plt.plot(gammas, f1_mse_gd, label=\"F1 MSE with GD\", linestyle = 'dotted', color=\"b\")\n",
    "plt.plot(gammas, acc_mse_sgd, label=\"Accuracy MSE with SGD\", color=\"g\")\n",
    "plt.plot(gammas, f1_mse_sgd, label=\"F1 MSE with SGD\", linestyle = 'dotted', color=\"g\")\n",
    "\n",
    "plt.legend()\n",
    "\n",
    "plt.xlabel(\"Gamma\")\n",
    "plt.ylabel(\"Accuracy and F1\")\n",
    "\n",
    "plt.grid(axis = 'y')\n",
    "\n",
    "plt.show()"
   ]
  },
  {
   "cell_type": "code",
   "execution_count": null,
   "metadata": {},
   "outputs": [],
   "source": []
  }
 ],
 "metadata": {
  "kernelspec": {
   "display_name": "CIVIL-459",
   "language": "python",
   "name": "python3"
  },
  "language_info": {
   "codemirror_mode": {
    "name": "ipython",
    "version": 3
   },
   "file_extension": ".py",
   "mimetype": "text/x-python",
   "name": "python",
   "nbconvert_exporter": "python",
   "pygments_lexer": "ipython3",
   "version": "3.11.5"
  }
 },
 "nbformat": 4,
 "nbformat_minor": 2
}
