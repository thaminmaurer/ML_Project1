{
 "cells": [
  {
   "attachments": {},
   "cell_type": "markdown",
   "metadata": {},
   "source": [
    "# CS-433 Machine learning project 1"
   ]
  },
  {
   "cell_type": "code",
   "execution_count": 1,
   "metadata": {},
   "outputs": [],
   "source": [
    "import numpy as np\n",
    "import matplotlib.pyplot as plt\n",
    "import helpers\n",
    "from implementations import *\n",
    "\n",
    "%load_ext autoreload\n",
    "%autoreload 2"
   ]
  },
  {
   "cell_type": "code",
   "execution_count": 2,
   "metadata": {},
   "outputs": [],
   "source": [
    "# x_train = np.genfromtxt(\"data/dataset/x_train.csv\", delimiter=',', skip_header=1)\n",
    "# y_train = np.genfromtxt(\"data/dataset/y_train.csv\", delimiter=',', skip_header=1)\n",
    "# x_test =  np.genfromtxt(\"data/dataset/x_test.csv\", delimiter=',', skip_header=1)\n",
    "x_train, x_test, y_train, train_ids, test_ids = helpers.load_csv_data(\"data/dataset\")"
   ]
  },
  {
   "cell_type": "code",
   "execution_count": 3,
   "metadata": {},
   "outputs": [
    {
     "name": "stdout",
     "output_type": "stream",
     "text": [
      "[2015. 2015. 2015. ... 2015. 2015. 2015.]\n",
      "float64\n",
      "False\n",
      "139415\n",
      "[-1 -1 -1 ... -1 -1 -1]\n"
     ]
    }
   ],
   "source": [
    "print(x_train[:,5])\n",
    "print(x_train[0,5].dtype)\n",
    "print(np.isnan(x_train[0,5]))\n",
    "print(np.sum(np.isnan(x_train[:,10])))\n",
    "print(y_train)"
   ]
  },
  {
   "attachments": {},
   "cell_type": "markdown",
   "metadata": {},
   "source": [
    "## Nan handling"
   ]
  },
  {
   "cell_type": "code",
   "execution_count": 4,
   "metadata": {},
   "outputs": [
    {
     "name": "stdout",
     "output_type": "stream",
     "text": [
      "[     0      0      0      0      0      0      0      0      0 139415\n",
      " 139415 328103 139416 139415 328103 139433 139524 139525 188720 188720\n",
      " 188721 188720 327334 188719 189287 192544      2      1      0 159860\n",
      "      0      0      1      1      1 196334      0  43801  43801      0\n",
      "      0 284153      1      0      0      1      0      0      5 285915\n",
      "      0      0      0      0 139415 318245 139415      1      0      3\n",
      "   2471   3207   3946   4407 279663   6933   7743   8293   8728   9149\n",
      "   9432   9862  10541 191379 282510 237369  11007  11765 170906 171212\n",
      " 171522  20738  21567  22468  23149  23759  24502  26205 107829 109141\n",
      " 109407 109690 181261 181400  28647 226907 227043 227197 229088  29911\n",
      "  30600 186763 186001  31022  32080 243418 243561 266689 266689 306425\n",
      " 306426 306428 306429 306429 306629 306429 306430 306430 247299 310302\n",
      " 310320 310346 310367 310392 310403 310450 265347 325762 325769 325769\n",
      " 327339 326264 325775 325777 325777 325780 241493 318477 318489 325051\n",
      " 318505 318515 297518 309300 297543 327354 327645 327907 327907 327648\n",
      " 327648 327649 327793 327650 327650 327362 327618 314089 318284 323942\n",
      " 323941 323942 313550 313560 313564 313572 298044 320046 327036 307336\n",
      " 311136 314308 311142 312277 311151 322950 311321 323914 324421 287897\n",
      " 313435 287921 298973 298976 323261 323267 323272 323272 325495 325498\n",
      " 327539 327956 276513 273642 302161 302172 309175 299744 203924 203990\n",
      " 283588 283743 289046 323324 313056 313066 312994 313007 313014 313018\n",
      " 313027 313032 313044 313055 313067 313074      0     14 142438      0\n",
      "     22      0      0  90436 279532 279532 283603      0 123084      0\n",
      "      0      0      0      0  43801      0      0      0   1883      0\n",
      "      0      0      0      0      0   5438      0      0      0      0\n",
      "  12721  11368  23006  27073  27073      0      0      0      0      0\n",
      "      0      0      0      0      0      0  28366  26927  29382  27893\n",
      "  28958  30593      0      0      0      0  32115  37605      0      0\n",
      "      0      0      0      0      0 108727 112425      0      0 111072\n",
      " 114698 113793 184643 111257 182913 115152 116821  32496      0 117355\n",
      " 119004 112859 113785 117012 111793      0      0      0      0      0\n",
      "      0      0      0   1883   1883   1883      0      0 211378 211378\n",
      "  32080]\n",
      "146965.04361370715\n",
      "(321,)\n",
      "321\n"
     ]
    }
   ],
   "source": [
    "\n",
    "#calculate number number of nan per column\n",
    "logical_matrix = np.isnan(x_train)\n",
    "nan_per_columns = np.sum(logical_matrix, axis=0)\n",
    "print(nan_per_columns)\n",
    "average_nan = np.mean(nan_per_columns)\n",
    "print(average_nan)\n",
    "print(np.shape(nan_per_columns))\n",
    "print(np.shape(x_train)[1])"
   ]
  },
  {
   "cell_type": "code",
   "execution_count": 5,
   "metadata": {},
   "outputs": [],
   "source": [
    "# delet the columns with more nan than the average\n",
    "x_train_reduced_features = x_train[:, nan_per_columns <= average_nan]\n",
    "\n",
    "\n"
   ]
  },
  {
   "cell_type": "code",
   "execution_count": 6,
   "metadata": {},
   "outputs": [
    {
     "name": "stdout",
     "output_type": "stream",
     "text": [
      "(328135, 321)\n"
     ]
    }
   ],
   "source": [
    "print(np.shape(x_train))"
   ]
  },
  {
   "cell_type": "code",
   "execution_count": 7,
   "metadata": {},
   "outputs": [
    {
     "name": "stdout",
     "output_type": "stream",
     "text": [
      "[0 0 0 0 0 0 0 0 0 0 0 0 0 0 0 0 0 0 0 0 0 0 0 0 0 0 0 0 0 0 0 0 0 0 0 0 0\n",
      " 0 0 0 0 0 0 0 0 0 0 0 0 0 0 0 0 0 0 0 0 0 0 0 0 0 0 0 0 0 0 0 0 0 0 0 0 0\n",
      " 0 0 0 0 0 0 0 0 0 0 0 0 0 0 0 0 0 0 0 0 0 0 0 0 0 0 0 0 0 0 0 0 0 0 0 0 0\n",
      " 0 0 0 0 0 0 0 0 0 0 0 0 0 0 0 0 0 0 0 0 0 0 0 0 0 0 0 0 0 0 0 0 0 0 0 0 0\n",
      " 0 0 0 0 0 0 0 0 0 0 0 0 0 0 0 0 0 0 0 0 0 0 0 0 0 0 0 0 0 0 0 0 0 0 0 0 0\n",
      " 0 0 0 0 0 0 0 0 0 0 0 0 0 0 0 0 0 0 0 0 0 0 0 0 0 0 0 0 0 0 0 0 0 0 0 0 0\n",
      " 0 0 0 0 0 0 0 0 0 0 0 0 0 0 0 0 0 0 0 0 0 0 0 0 0 0 0 0 0 0 0 0 0 0 0 0 0\n",
      " 0 0 0 0 0 0 0 0 0 0 0 0 0 0 0 0 0 0 0 0 0 0 0 0 0 0 0 0 0 0 0 0 0 0 0 0 0\n",
      " 0 0 0 0 0 0 0 0 0 0 0 0 0 0 0 0 0 0 0 0 0 0 0 0 0]\n"
     ]
    }
   ],
   "source": [
    "#replace nan values with 0:\n",
    "x_train_w_mean = x_train\n",
    "for i in range( np.shape(x_train)[1]):\n",
    "    nan_entries = np.isnan(x_train[:,i])\n",
    "    mean = np.mean(x_train[~nan_entries,i])\n",
    "\n",
    "    nan_entries = np.isnan(x_train[:,i])\n",
    "\n",
    "    x_train_w_mean[nan_entries, i] = 0\n",
    "    \n",
    "logical_matrix = np.isnan(x_train_w_mean)\n",
    "nan_per_columns2 = np.sum(logical_matrix, axis=0)\n",
    "print(nan_per_columns2)\n",
    "\n",
    "\n",
    "\n"
   ]
  },
  {
   "cell_type": "code",
   "execution_count": 8,
   "metadata": {},
   "outputs": [
    {
     "name": "stdout",
     "output_type": "stream",
     "text": [
      "[[ 1.4362964   1.33036073  1.31787257 ... -0.43830768 -0.42493604\n",
      "   0.1522069 ]\n",
      " [ 0.18877218  1.61711904  1.60160179 ... -0.43830768 -0.42493604\n",
      "  -1.19716795]\n",
      " [-0.62211856  1.04360241  1.04274121 ...  0.09962797  0.56745845\n",
      "   0.1522069 ]\n",
      " ...\n",
      " [ 0.56302944  1.04360241  1.04274121 ...  0.63756363  0.56745845\n",
      "   0.1522069 ]\n",
      " [ 0.18877218  1.61711904  1.64459107 ... -0.43830768 -0.42493604\n",
      "   0.1522069 ]\n",
      " [ 0.12639597  0.7568441   0.73321843 ... -0.43830768 -0.42493604\n",
      "   0.1522069 ]]\n"
     ]
    }
   ],
   "source": [
    "x_train_std, _, _, = standardize(x_train_w_mean)\n",
    "print(x_train_std)"
   ]
  },
  {
   "cell_type": "code",
   "execution_count": 9,
   "metadata": {},
   "outputs": [
    {
     "name": "stdout",
     "output_type": "stream",
     "text": [
      "(328135, 321)\n"
     ]
    }
   ],
   "source": [
    "\n",
    "\n",
    "print(np.shape(x_train_std))\n",
    "\n"
   ]
  },
  {
   "cell_type": "code",
   "execution_count": 10,
   "metadata": {},
   "outputs": [
    {
     "name": "stdout",
     "output_type": "stream",
     "text": [
      "There are 91.17 % -1.\n",
      "\n",
      "There are 8.83 % 1.\n",
      "\n"
     ]
    }
   ],
   "source": [
    "### Count the amount of incidents\n",
    "\n",
    "minus_ones = np.sum((y_train == -1))\n",
    "\n",
    "ones = np.sum(( y_train == 1))\n",
    "print(f\"There are {100*minus_ones/len(y_train):.2f} % -1.\\n\")\n",
    "print(f\"There are {100*ones/len(y_train):.2f} % 1.\\n\")"
   ]
  },
  {
   "cell_type": "code",
   "execution_count": null,
   "metadata": {},
   "outputs": [],
   "source": []
  },
  {
   "cell_type": "markdown",
   "metadata": {},
   "source": [
    "## Using a Chi-squared test to determine the important values\n"
   ]
  },
  {
   "cell_type": "code",
   "execution_count": 100,
   "metadata": {},
   "outputs": [
    {
     "name": "stderr",
     "output_type": "stream",
     "text": [
      "/tmp/ipykernel_2532/2622695774.py:12: RuntimeWarning: invalid value encountered in divide\n",
      "  chi2 = np.sum((contingency_table - np.mean(contingency_table))**2 / np.mean(contingency_table))\n"
     ]
    },
    {
     "name": "stdout",
     "output_type": "stream",
     "text": [
      "[110 119 118 117 116 115 114 113 112 111   0 109 108 107 106 105 104 103\n",
      " 102 101]\n"
     ]
    }
   ],
   "source": [
    "# Define a function to calculate the chi-squared values for all features\n",
    "def chi2_features(X, y):\n",
    "    chi2_scores = []\n",
    "    for feature in range(X.shape[1]):\n",
    "        # Create a contingency table\n",
    "        contingency_table = np.zeros((2, 2))\n",
    "        for i in range(2):\n",
    "            for j in range(2):\n",
    "                # Count occurrences for each combination of feature and target\n",
    "                contingency_table[i, j] = np.sum((X[:, feature] == i) & (y == j))\n",
    "        # Calculate the chi-squared statistic\n",
    "        chi2 = np.sum((contingency_table - np.mean(contingency_table))**2 / np.mean(contingency_table))\n",
    "        chi2_scores.append(chi2)\n",
    "    return chi2_scores\n",
    "\n",
    "# Calculate chi-squared values for all features\n",
    "chi2_scores = chi2_features(x_train_std, y_train)\n",
    "\n",
    "# Specify the number of top features to select (k)\n",
    "k = 20\n",
    "\n",
    "# Get the indices of the top k features with the highest chi-squared scores\n",
    "selected_feature_indices = np.argsort(chi2_scores)[-k:]\n",
    "\n",
    "print(selected_feature_indices)"
   ]
  },
  {
   "cell_type": "markdown",
   "metadata": {},
   "source": [
    "## Rebalancing the data"
   ]
  },
  {
   "cell_type": "code",
   "execution_count": 81,
   "metadata": {},
   "outputs": [
    {
     "name": "stdout",
     "output_type": "stream",
     "text": [
      "Proportion of majority class (-1) in rebalanced dataset: 0.6737306743837761\n",
      "Proportion of minority class (1) in rebalanced dataset: 0.32626932561622396\n"
     ]
    }
   ],
   "source": [
    "# Choose the desired number of instances for each class\n",
    "desired_majority_class = 0.20  # for -1\n",
    "desired_minority_class = 1  # for 1\n",
    "\n",
    "# Find the indices of the majority and minority classes\n",
    "majority_indices = np.where(y_train == -1)[0]\n",
    "minority_indices = np.where(y_train == 1)[0]\n",
    "\n",
    "# Calculate the number of samples to keep for each class\n",
    "num_samples_majority = int(desired_majority_class * len(majority_indices))\n",
    "num_samples_minority = int(desired_minority_class * len(minority_indices))\n",
    "\n",
    "# Randomly select a subset of majority class instances (undersampling)\n",
    "undersampled_majority_indices = np.random.choice(majority_indices, num_samples_majority, replace=False)\n",
    "\n",
    "# Randomly select a subset of minority class instances (oversampling)\n",
    "oversampled_minority_indices = np.random.choice(minority_indices, num_samples_minority, replace=True)\n",
    "\n",
    "# Combine the undersampled majority class with the oversampled minority class\n",
    "X_balanced = np.vstack((x_train_std[undersampled_majority_indices], x_train_std[oversampled_minority_indices]))\n",
    "y_balanced = np.hstack((y_train[undersampled_majority_indices], y_train[oversampled_minority_indices]))\n",
    "\n",
    "# Calculate the proportion of each class in the rebalanced dataset\n",
    "proportion_majority_class = np.sum(y_balanced == -1) / len(y_balanced)\n",
    "proportion_minority_class = np.sum(y_balanced == 1) / len(y_balanced)\n",
    "\n",
    "print(\"Proportion of majority class (-1) in rebalanced dataset:\", proportion_majority_class)\n",
    "print(\"Proportion of minority class (1) in rebalanced dataset:\", proportion_minority_class)\n"
   ]
  },
  {
   "cell_type": "markdown",
   "metadata": {},
   "source": [
    "## Training the model"
   ]
  },
  {
   "cell_type": "code",
   "execution_count": 105,
   "metadata": {},
   "outputs": [
    {
     "name": "stdout",
     "output_type": "stream",
     "text": [
      "Iteration 0 of 100 finished.\n",
      "Accuracy : 0.4704133683155607, Loss : 0.8454860385617364, F1score : 0.35659466188762884\n",
      "Iteration 1 of 100 finished.\n",
      "Accuracy : 0.472778046775592, Loss : 0.8367719632186282, F1score : 0.3580976405588078\n",
      "Iteration 2 of 100 finished.\n",
      "Accuracy : 0.47751866406927385, Loss : 0.8288518043927917, F1score : 0.3597527320896346\n",
      "Iteration 3 of 100 finished.\n",
      "Accuracy : 0.4804801423311226, Loss : 0.8216217268769428, F1score : 0.35703833772314897\n",
      "Iteration 4 of 100 finished.\n",
      "Accuracy : 0.48384699404326237, Loss : 0.8149918130399169, F1score : 0.3588373524310412\n",
      "Iteration 5 of 100 finished.\n",
      "Accuracy : 0.4877881248099812, Loss : 0.8088843474532658, F1score : 0.3596125689829936\n",
      "Iteration 6 of 100 finished.\n",
      "Accuracy : 0.4901077617755357, Loss : 0.8032323863816186, F1score : 0.36103742168538694\n",
      "Iteration 7 of 100 finished.\n",
      "Accuracy : 0.49398133030053937, Loss : 0.7979785180359027, F1score : 0.36187555025418194\n",
      "Iteration 8 of 100 finished.\n",
      "Accuracy : 0.4950172846735055, Loss : 0.7930737206073228, F1score : 0.3629648569561635\n",
      "Iteration 9 of 100 finished.\n",
      "Accuracy : 0.4961996239035211, Loss : 0.788476286676998, F1score : 0.36366998051513993\n",
      "Iteration 10 of 100 finished.\n",
      "Accuracy : 0.4984291778801221, Loss : 0.7841508183859133, F1score : 0.36482381964150756\n",
      "Iteration 11 of 100 finished.\n",
      "Accuracy : 0.5000619320549056, Loss : 0.7800673074490153, F1score : 0.36510796510796506\n",
      "Iteration 12 of 100 finished.\n",
      "Accuracy : 0.5038904590854325, Loss : 0.7762003109992504, F1score : 0.3662907772855417\n",
      "Iteration 13 of 100 finished.\n",
      "Accuracy : 0.5111196189489567, Loss : 0.7725282276883757, F1score : 0.3662082858894631\n",
      "Iteration 14 of 100 finished.\n",
      "Accuracy : 0.5123469996734492, Loss : 0.7690326724506207, F1score : 0.36743934680046153\n",
      "Iteration 15 of 100 finished.\n",
      "Accuracy : 0.5147567196279572, Loss : 0.7656979439222409, F1score : 0.36897980700238686\n",
      "Iteration 16 of 100 finished.\n",
      "Accuracy : 0.5159503192315921, Loss : 0.7625105757559573, F1score : 0.37003385260196087\n",
      "Iteration 17 of 100 finished.\n",
      "Accuracy : 0.5184163410541962, Loss : 0.7594589617500223, F1score : 0.370614551448081\n",
      "Iteration 18 of 100 finished.\n",
      "Accuracy : 0.5196775028995462, Loss : 0.7565330445012476, F1score : 0.3714117300324197\n",
      "Iteration 19 of 100 finished.\n",
      "Accuracy : 0.523100656479782, Loss : 0.7537240578293624, F1score : 0.37248859124044326\n",
      "Iteration 20 of 100 finished.\n",
      "Accuracy : 0.5248572747643767, Loss : 0.7510243141791383, F1score : 0.37379793422770985\n",
      "Iteration 21 of 100 finished.\n",
      "Accuracy : 0.5275597644329839, Loss : 0.7484270293371329, F1score : 0.37537591186541613\n",
      "Iteration 22 of 100 finished.\n",
      "Accuracy : 0.5302960352224487, Loss : 0.7459261779387806, F1score : 0.3757127677088166\n",
      "Iteration 23 of 100 finished.\n",
      "Accuracy : 0.5328746607812447, Loss : 0.7435163742981886, F1score : 0.3768925739005046\n",
      "Iteration 24 of 100 finished.\n",
      "Accuracy : 0.5340457396376411, Loss : 0.7411927740265777, F1score : 0.3774635173762599\n",
      "Iteration 25 of 100 finished.\n",
      "Accuracy : 0.537525195085973, Loss : 0.7389509927053469, F1score : 0.379639000075523\n",
      "Iteration 26 of 100 finished.\n",
      "Accuracy : 0.5396871868208587, Loss : 0.7367870385517946, F1score : 0.38064936442282926\n",
      "Iteration 27 of 100 finished.\n",
      "Accuracy : 0.5414888465999302, Loss : 0.7346972565727505, F1score : 0.3811231856524052\n",
      "Iteration 28 of 100 finished.\n",
      "Accuracy : 0.5429864762912834, Loss : 0.732678282159268, F1score : 0.38174450842397095\n",
      "Iteration 29 of 100 finished.\n",
      "Accuracy : 0.5446530115869245, Loss : 0.7307270024497595, F1score : 0.38245624751840207\n",
      "Iteration 30 of 100 finished.\n",
      "Accuracy : 0.5481887689033522, Loss : 0.7288405240936909, F1score : 0.38356122292210787\n",
      "Iteration 31 of 100 finished.\n",
      "Accuracy : 0.5511164660443434, Loss : 0.7270161462957684, F1score : 0.3827955657397659\n",
      "Iteration 32 of 100 finished.\n",
      "Accuracy : 0.5538076953393314, Loss : 0.7252513382219999, F1score : 0.38417903489004585\n",
      "Iteration 33 of 100 finished.\n",
      "Accuracy : 0.5551476798000158, Loss : 0.7235437200129458, F1score : 0.3820815215691181\n",
      "Iteration 34 of 100 finished.\n",
      "Accuracy : 0.5572984111612823, Loss : 0.7218910467830575, F1score : 0.382431944204458\n",
      "Iteration 35 of 100 finished.\n",
      "Accuracy : 0.5592689765446418, Loss : 0.7202911950941423, F1score : 0.38366087175610986\n",
      "Iteration 36 of 100 finished.\n",
      "Accuracy : 0.5637280844978436, Loss : 0.7187421514803074, F1score : 0.38526957128803985\n",
      "Iteration 37 of 100 finished.\n",
      "Accuracy : 0.5646514351346178, Loss : 0.7172420026750664, F1score : 0.3866679357827273\n",
      "Iteration 38 of 100 finished.\n",
      "Accuracy : 0.5685700451540983, Loss : 0.7157889272515948, F1score : 0.38840468665198097\n",
      "Iteration 39 of 100 finished.\n",
      "Accuracy : 0.5691781053295348, Loss : 0.7143811884368415, F1score : 0.3901428207090028\n",
      "Iteration 40 of 100 finished.\n",
      "Accuracy : 0.5708221198779375, Loss : 0.7130171279012744, F1score : 0.3920630363352155\n",
      "Iteration 41 of 100 finished.\n",
      "Accuracy : 0.5720720213496684, Loss : 0.711695160360008, F1score : 0.39372716685544723\n",
      "Iteration 42 of 100 finished.\n",
      "Accuracy : 0.5768914612586845, Loss : 0.7104137688492217, F1score : 0.3967247330818014\n",
      "Iteration 43 of 100 finished.\n",
      "Accuracy : 0.5785467361807065, Loss : 0.7091715005651124, F1score : 0.396809024979855\n",
      "Iteration 44 of 100 finished.\n",
      "Accuracy : 0.5804609996959699, Loss : 0.7079669631720137, F1score : 0.39914204618758875\n",
      "Iteration 45 of 100 finished.\n",
      "Accuracy : 0.5830621460020043, Loss : 0.7067988215024019, F1score : 0.4007121469612366\n",
      "Iteration 46 of 100 finished.\n",
      "Accuracy : 0.584019277759636, Loss : 0.7056657945848889, F1score : 0.4025423728813559\n",
      "Iteration 47 of 100 finished.\n",
      "Accuracy : 0.5845259945724999, Loss : 0.7045666529473974, F1score : 0.4031446642617965\n",
      "Iteration 48 of 100 finished.\n",
      "Accuracy : 0.5853480018467013, Loss : 0.703500216151957, F1score : 0.4039109039109039\n",
      "Iteration 49 of 100 finished.\n",
      "Accuracy : 0.5864289977141441, Loss : 0.7024653505252112, F1score : 0.40584961822181964\n",
      "Iteration 50 of 100 finished.\n",
      "Accuracy : 0.5873861294717758, Loss : 0.701460967055091, F1score : 0.40736847212563276\n",
      "Iteration 51 of 100 finished.\n",
      "Accuracy : 0.5885572083281724, Loss : 0.7004860194293833, F1score : 0.40979502172543575\n",
      "Iteration 52 of 100 finished.\n",
      "Accuracy : 0.5891427477563705, Loss : 0.6995395021962867, F1score : 0.41332625858215555\n",
      "Iteration 53 of 100 finished.\n",
      "Accuracy : 0.590313826612767, Loss : 0.6986204490306703, F1score : 0.4151113254561531\n",
      "Iteration 54 of 100 finished.\n",
      "Accuracy : 0.5911245735133491, Loss : 0.6977279310927288, F1score : 0.41707469778940776\n",
      "Iteration 55 of 100 finished.\n",
      "Accuracy : 0.5915524677108787, Loss : 0.6968610554681978, F1score : 0.4182637563549469\n",
      "Iteration 56 of 100 finished.\n",
      "Accuracy : 0.5920028826556465, Loss : 0.6960189636813137, F1score : 0.41976139002322044\n",
      "Iteration 57 of 100 finished.\n",
      "Accuracy : 0.5924870787212719, Loss : 0.6952008302733711, F1score : 0.4223463687150838\n",
      "Iteration 58 of 100 finished.\n",
      "Accuracy : 0.5931739615120429, Loss : 0.6944058614410911, F1score : 0.42521914822533685\n",
      "Iteration 59 of 100 finished.\n",
      "Accuracy : 0.5940747914015787, Loss : 0.6936332937301217, F1score : 0.4288543498581998\n",
      "Iteration 60 of 100 finished.\n",
      "Accuracy : 0.5959890549168422, Loss : 0.6928823927798995, F1score : 0.4306637680699471\n",
      "Iteration 61 of 100 finished.\n",
      "Accuracy : 0.5961692208947493, Loss : 0.6921524521168175, F1score : 0.4337212423615606\n",
      "Iteration 62 of 100 finished.\n",
      "Accuracy : 0.5964732509824676, Loss : 0.69144279199324, F1score : 0.43551130993636195\n",
      "Iteration 63 of 100 finished.\n",
      "Accuracy : 0.5966759377076132, Loss : 0.6907527582703579, F1score : 0.4375843984549194\n",
      "Iteration 64 of 100 finished.\n",
      "Accuracy : 0.5971713941468578, Loss : 0.6900817213432449, F1score : 0.44024409325614144\n",
      "Iteration 65 of 100 finished.\n",
      "Accuracy : 0.5974866846081953, Loss : 0.6894290751067548, F1score : 0.4416257927457903\n",
      "Iteration 66 of 100 finished.\n",
      "Accuracy : 0.59798214104744, Loss : 0.6887942359611129, F1score : 0.444810748608217\n",
      "Iteration 67 of 100 finished.\n",
      "Accuracy : 0.5985676804756381, Loss : 0.6881766418562071, F1score : 0.4467378484077224\n",
      "Iteration 68 of 100 finished.\n",
      "Accuracy : 0.5986352427173534, Loss : 0.687575751373699, F1score : 0.4489688649785116\n",
      "Iteration 69 of 100 finished.\n",
      "Accuracy : 0.5986802842118302, Loss : 0.686991042846141, F1score : 0.4519958177009656\n",
      "Iteration 70 of 100 finished.\n",
      "Accuracy : 0.5991419595302172, Loss : 0.6864220135123306, F1score : 0.45386066919288776\n",
      "Iteration 71 of 100 finished.\n",
      "Accuracy : 0.6003242987602329, Loss : 0.6858681787081511, F1score : 0.4598222438668046\n",
      "Iteration 72 of 100 finished.\n",
      "Accuracy : 0.6003918610019481, Loss : 0.6853290710921381, F1score : 0.46066869300911856\n",
      "Iteration 73 of 100 finished.\n",
      "Accuracy : 0.6001553931559449, Loss : 0.6848042399050055, F1score : 0.46274189399785154\n",
      "Iteration 74 of 100 finished.\n",
      "Accuracy : 0.6004932043645208, Loss : 0.6842932502623278, F1score : 0.463244527148671\n",
      "Iteration 75 of 100 finished.\n",
      "Accuracy : 0.601135045660815, Loss : 0.6837956824795466, F1score : 0.4648112893965491\n",
      "Iteration 76 of 100 finished.\n",
      "Accuracy : 0.6026439357257873, Loss : 0.6833111314284263, F1score : 0.4677205261252564\n",
      "Iteration 77 of 100 finished.\n",
      "Accuracy : 0.6027790602092178, Loss : 0.6828392059240469, F1score : 0.4685588598632078\n",
      "Iteration 78 of 100 finished.\n",
      "Accuracy : 0.603139392165032, Loss : 0.6823795281413775, F1score : 0.47057232987832365\n",
      "Iteration 79 of 100 finished.\n",
      "Accuracy : 0.6038150145821838, Loss : 0.6819317330604373, F1score : 0.4725986329296079\n",
      "Iteration 80 of 100 finished.\n",
      "Accuracy : 0.6043329917686668, Loss : 0.681495467939016, F1score : 0.47552092662248496\n",
      "Iteration 81 of 100 finished.\n",
      "Accuracy : 0.6034434222527504, Loss : 0.6810703918118919, F1score : 0.47701926075528295\n",
      "Iteration 82 of 100 finished.\n",
      "Accuracy : 0.6040852635490446, Loss : 0.6806561750154652, F1score : 0.4782453849350033\n",
      "Iteration 83 of 100 finished.\n",
      "Accuracy : 0.6044455955048589, Loss : 0.6802524987367005, F1score : 0.4796931006902272\n",
      "Iteration 84 of 100 finished.\n",
      "Accuracy : 0.6048284482079115, Loss : 0.6798590545852641, F1score : 0.48081190638222326\n",
      "Iteration 85 of 100 finished.\n",
      "Accuracy : 0.6055265913723017, Loss : 0.6794755441877324, F1score : 0.48284617655742545\n",
      "Iteration 86 of 100 finished.\n",
      "Accuracy : 0.6058531422072584, Loss : 0.6791016788027513, F1score : 0.4850303806034927\n",
      "Iteration 87 of 100 finished.\n",
      "Accuracy : 0.6062134741630727, Loss : 0.6787371789560355, F1score : 0.486226805941205\n",
      "Iteration 88 of 100 finished.\n",
      "Accuracy : 0.6062359949103111, Loss : 0.6783817740941085, F1score : 0.4874008707251646\n",
      "Iteration 89 of 100 finished.\n",
      "Accuracy : 0.6067201909759365, Loss : 0.6780352022557046, F1score : 0.4894456788679687\n",
      "Iteration 90 of 100 finished.\n",
      "Accuracy : 0.6070129606900357, Loss : 0.6776972097597865, F1score : 0.4909122735361905\n",
      "Iteration 91 of 100 finished.\n",
      "Accuracy : 0.6075985001182339, Loss : 0.6773675509091518, F1score : 0.49207089552238803\n",
      "Iteration 92 of 100 finished.\n",
      "Accuracy : 0.6081277376783362, Loss : 0.6770459877086517, F1score : 0.4928372608169749\n",
      "Iteration 93 of 100 finished.\n",
      "Accuracy : 0.6079588320740482, Loss : 0.6767322895970694, F1score : 0.4963400167809508\n",
      "Iteration 94 of 100 finished.\n",
      "Accuracy : 0.6091299109304447, Loss : 0.676426233191766, F1score : 0.49848296587395613\n",
      "Iteration 95 of 100 finished.\n",
      "Accuracy : 0.6093325976555902, Loss : 0.6761276020452237, F1score : 0.49998558787075204\n",
      "Iteration 96 of 100 finished.\n",
      "Accuracy : 0.6099293974574076, Loss : 0.6758361864126877, F1score : 0.5012741329417354\n",
      "Iteration 97 of 100 finished.\n",
      "Accuracy : 0.6099181370837884, Loss : 0.6755517830301359, F1score : 0.5020697981946761\n",
      "Iteration 98 of 100 finished.\n",
      "Accuracy : 0.6105036765119867, Loss : 0.6752741949018649, F1score : 0.5047250859106529\n",
      "Iteration 99 of 100 finished.\n",
      "Accuracy : 0.6098055333475965, Loss : 0.675003231097024, F1score : 0.5062129502963977\n",
      "lambda =  0.001 | Accuracy moyenne : 0.5675365680633283 | Acc>0.75 : 0\n"
     ]
    }
   ],
   "source": [
    "best_feature_indices = [16, 22, 28, 41, 52, 71, 234, 236]\n",
    "\n",
    "#tx = x_train_std[:, selected_feature_indices] # change input data here\n",
    "#tx = x_train_std[:, 10:321] # change input data here\n",
    "tx = X_balanced[:, selected_feature_indices] # change input data here\n",
    "\n",
    "#y = y_train[:] # change target value here\n",
    "y = y_balanced[:] # change target value here\n",
    "y = y.reshape(-1,)\n",
    "\n",
    "\n",
    "\n",
    "w_s=[]\n",
    "losses=[]\n",
    "\n",
    "# Number of features\n",
    "num_features = tx.shape[1]\n",
    "\n",
    "\"\"\" # Initialize weights randomly\n",
    "w = np.random.uniform(-1, 1, (num_features,)) \"\"\"\n",
    "\n",
    "# Initialize weights using Xavier/Glorot initialization\n",
    "w = np.random.uniform(-np.sqrt(6.0 / (num_features + 1)), np.sqrt(6.0 / (num_features + 1)), (num_features,))\n",
    "\n",
    "\"\"\" # Initialize weights to near zero\n",
    "w = np.full((num_features ,), 1e-16)  \"\"\"\n",
    "\n",
    "max_iters=100\n",
    "accs=[]\n",
    "precs=[]\n",
    "recs=[]\n",
    "F1s=[]\n",
    "batch_size = 1\n",
    "lambda_ = 1e-3\n",
    "gamma = 0.001\n",
    "\n",
    "for i in range(max_iters):\n",
    "\n",
    "    #1) mean_squared_error_gd\n",
    "    #w, loss = mean_squared_error_gd(y, tx, w, max_iters, gamma)\n",
    "\n",
    "    #2) mean_squared_error_sgd\n",
    "    #w, loss = mean_squared_error_sgd(y, tx, w, max_iters, gamma,  batch_size, num_batches=1) \n",
    "\n",
    "    #3) least_squares\n",
    "    #w, loss = least_squares(y, tx)  # change input data here, matrix is not invertible[10, 12, 14/15/20/69]\n",
    "\n",
    "    #4) ridge_regression\n",
    "    #w, loss = ridge_regression(y, tx, lambda_)\n",
    "\n",
    "    #5) logistic_regression\n",
    "    #w, loss = logistic_regression_minusone_one(y, tx, w, max_iters, gamma)\n",
    "\n",
    "    #6) reg_logistic_regression\n",
    "    w, loss = reg_logistic_regression(y, tx, lambda_, w, max_iters, gamma) \n",
    "\n",
    "    #7) logistic_regression with mini-batch\n",
    "    #w, loss = logistic_regression_with_mb(y, tx, w, max_iters, gamma, batch_size)\n",
    " \n",
    "    losses.append(loss)\n",
    "\n",
    " \n",
    "    y_1 = tx.dot(w)\n",
    "    y_2 = compute_sigmoid(y_1)\n",
    "    y_pred = y_2.copy()\n",
    "    y_pred[y_2>0.5] = 1\n",
    "    y_pred[y_2<=0.5] = -1\n",
    "    \n",
    "    TP = 0\n",
    "    FP = 0\n",
    "    TN = 0\n",
    "    FN = 0\n",
    "    for pred in range(len(y_pred)):\n",
    "        if (y_pred[pred] == 1 and y[pred] == 1):\n",
    "            TP+=1\n",
    "        elif (y_pred[pred] == 1 and y[pred] == -1):\n",
    "            FP+=1\n",
    "        elif (y_pred[pred] == -1 and y[pred] == 1):\n",
    "            FN+=1\n",
    "        else :\n",
    "            TN+=1\n",
    "    acc = (TP+TN)/len(y_pred)\n",
    "    if TP + FP == 0:\n",
    "        prec = 0  # Avoid division by zero\n",
    "    else:\n",
    "        prec = TP / (TP + FP)\n",
    "\n",
    "\n",
    "    if TP + FN == 0:\n",
    "        rec = 0  # Avoid division by zero\n",
    "    else:\n",
    "        rec = TP / (TP + FN)\n",
    "\n",
    "\n",
    "    if prec + rec == 0:\n",
    "        F1score = 0  # Avoid division by zero\n",
    "    else:\n",
    "        F1score = 2 * prec * rec / (prec + rec)\n",
    "\n",
    "\n",
    "    if acc > 0.75 :\n",
    "        w_s.append(w)\n",
    "\n",
    "    accs.append(acc)\n",
    "    precs.append(prec)\n",
    "    recs.append(recs)\n",
    "    F1s.append(F1score)\n",
    "    conf_matrix = np.array([[TP, FP], [FN, TN]])\n",
    "    print(f\"Iteration {i} of {max_iters} finished.\")\n",
    "    print(f\"Accuracy : {acc}, Loss : {loss}, F1score : {F1score}\")\n",
    "        \n",
    "w_s = np.asarray(w_s)\n",
    "print(\"lambda = \",lambda_,\"| Accuracy moyenne :\",np.mean(accs),\"| Acc>0.75 :\",w_s.shape[0])\n",
    "\n"
   ]
  },
  {
   "cell_type": "code",
   "execution_count": 106,
   "metadata": {},
   "outputs": [
    {
     "data": {
      "image/png": "[encoded data removed]",
      "text/plain": [
       "<Figure size 640x480 with 1 Axes>"
      ]
     },
     "metadata": {},
     "output_type": "display_data"
    }
   ],
   "source": [
    "plt.figure()\n",
    "plt.plot(np.linspace(0, max_iters, max_iters), accs)\n",
    "#plt.plot(np.linspace(0, max_iters, max_iters), losses)\n",
    "plt.xlabel(\"Iterations\")\n",
    "plt.ylabel(\"Accuracy\")\n",
    "plt.show()"
   ]
  },
  {
   "cell_type": "code",
   "execution_count": 107,
   "metadata": {},
   "outputs": [
    {
     "data": {
      "image/png": "[encoded data removed]",
      "text/plain": [
       "<Figure size 640x480 with 1 Axes>"
      ]
     },
     "metadata": {},
     "output_type": "display_data"
    }
   ],
   "source": [
    "plt.figure()\n",
    "plt.plot(np.linspace(0, max_iters, max_iters), losses)\n",
    "plt.xlabel(\"Iterations\")\n",
    "plt.ylabel(\"Loss\")\n",
    "plt.show()"
   ]
  },
  {
   "cell_type": "code",
   "execution_count": 108,
   "metadata": {},
   "outputs": [
    {
     "data": {
      "image/png": "[encoded data removed]",
      "text/plain": [
       "<Figure size 640x480 with 1 Axes>"
      ]
     },
     "metadata": {},
     "output_type": "display_data"
    }
   ],
   "source": [
    "plt.figure()\n",
    "plt.plot(np.linspace(0, max_iters, max_iters), F1s)\n",
    "plt.xlabel(\"Iterations\")\n",
    "plt.ylabel(\"F1score\")\n",
    "plt.show()"
   ]
  },
  {
   "cell_type": "code",
   "execution_count": 97,
   "metadata": {},
   "outputs": [
    {
     "name": "stdout",
     "output_type": "stream",
     "text": [
      "(109379,)\n"
     ]
    }
   ],
   "source": [
    "def baseline_prediction(y):\n",
    "    \"\"\" \n",
    "    Baseline prediction for logistic regression\n",
    "    Args:\n",
    "    y: input data\n",
    "    \"\"\"\n",
    "    y_pred = np.random.choice([-1,1], size=len(y))\n",
    "    return y_pred\n",
    "\n",
    "\"\"\" y_baseline = baseline_prediction(y_test)\n",
    "print(np.shape(y_baseline)) \"\"\""
   ]
  },
  {
   "cell_type": "code",
   "execution_count": 98,
   "metadata": {},
   "outputs": [],
   "source": [
    "#Create baseline prediction file\n",
    "helpers.create_csv_submission(test_ids, y_baseline, \"baseline\")"
   ]
  },
  {
   "cell_type": "markdown",
   "metadata": {},
   "source": [
    "## Create an AI-Crowd submission"
   ]
  },
  {
   "cell_type": "code",
   "execution_count": 99,
   "metadata": {},
   "outputs": [],
   "source": [
    "### Generate first submission\n",
    "x_test = handle_nan_values(x_test, delete_nan_columns=False)\n",
    "x_test, _, _  = standardize(x_test)\n",
    "y_test = predict_y(w, x_test[:, best_feature_indices])\n",
    "\n",
    "helpers.create_csv_submission(test_ids, y_test, \"AI_crowd_submission3\")\n"
   ]
  },
  {
   "cell_type": "code",
   "execution_count": null,
   "metadata": {},
   "outputs": [
    {
     "name": "stdout",
     "output_type": "stream",
     "text": [
      "Local test accuracy of mean_squared_error_gd is -127.135\n"
     ]
    },
    {
     "name": "stderr",
     "output_type": "stream",
     "text": [
      "c:\\Users\\jonas\\EPFL\\MA2\\ML_Project1\\functions.py:22: RuntimeWarning: overflow encountered in exp\n",
      "  sigmoid = 1/(1+np.exp(-x))\n",
      "c:\\Users\\jonas\\EPFL\\MA2\\ML_Project1\\functions.py:70: RuntimeWarning: overflow encountered in exp\n",
      "  loss = np.sum(np.log(1 + np.exp(pred)) - y * pred)\n"
     ]
    },
    {
     "name": "stdout",
     "output_type": "stream",
     "text": [
      "lambda =  0.001 | Accuracy moyenne : 0.9744 | Acc>0.75 : 1\n",
      "[0.9744]\n"
     ]
    }
   ],
   "source": [
    "changed_data = False # used to make least_squares work\n",
    "\n",
    "if changed_data:\n",
    "    tx = x_train_std[:1000, [10, 42, 69]] # change input data here\n",
    "    y = y_train[:1000] # change target value here\n",
    "    y = y.reshape(-1, 1)\n",
    "else:\n",
    "    # divide dataset into train and test data in order to test prediction on other data than was used for testing\n",
    "    train_data_size = 200000\n",
    "    local_test_data_size = y_train.shape[0] - train_data_size\n",
    "    total_data_size = y.shape[0]\n",
    "\n",
    "    tx = x_train_std[:train_data_size, :]\n",
    "    y = y_train[:train_data_size]\n",
    "    x_local_test = x_train_std[train_data_size:, :]\n",
    "    y_local_test = y_train[train_data_size:]\n",
    "\n",
    "    y = y.reshape(-1, 1)\n",
    "    y_local_test = y_local_test.reshape(-1, 1)\n",
    "\n",
    "w_s=[]\n",
    "losses=[]\n",
    "w = np.full((tx.shape[1],1), 1e-16) \n",
    "\n",
    "max_iters=100\n",
    "accs=[]\n",
    "precs=[]\n",
    "recs=[]\n",
    "F1s=[]\n",
    "batch_size = 1 \n",
    "lambda_ = 1e-3\n",
    "gamma = 0.1\n",
    "\n",
    "gammas = np.arange(0.005, 0.3, 0.05)\n",
    "lambdas = np.arange(0.00005, 0.003, 0.0005)\n",
    "\n",
    "# Test different gammas and lambdas\n",
    "#for gamma in gammas:\n",
    "#    for lambda_ in lambdas:\n",
    "\n",
    "\n",
    "#1) mean_squared_error_gd\n",
    "w, loss = mean_squared_error_gd(y, tx, w, max_iters, gamma)\n",
    "losses.append(loss)\n",
    "y_local_pred = predict_y(w, x_local_test)\n",
    "local_test_accuracy = ( total_data_size - np.sum(y_local_test != y_local_pred) ) / total_data_size\n",
    "print(\"Local test accuracy of mean_squared_error_gd is\", local_test_accuracy)\n",
    "\n",
    "#2) mean_squared_error_sgd\n",
    "w, loss = mean_squared_error_sgd(y, tx, w, max_iters, gamma)\n",
    "losses.append(loss)\n",
    "\n",
    "#3) least_squares\n",
    "if changed_data:\n",
    "    w, loss = least_squares(y, tx)  # change input data here, matrix is not invertible[10, 12, 14/15/20/69]\n",
    "\n",
    "#4) ridge_regression\n",
    "w, loss = ridge_regression(y, tx, lambda_)\n",
    "losses.append(loss)\n",
    "\n",
    "#5) logistic_regression\n",
    "w, loss = logistic_regression_minusone_one(y, tx, w, max_iters, gamma)\n",
    "losses.append(loss)\n",
    "\n",
    "#6) reg_logistic_regression\n",
    "w, loss = reg_logistic_regression(y, tx, lambda_, w, max_iters, gamma)\n",
    "losses.append(loss)\n",
    "\n",
    "\n",
    "y_pred=tx.dot(w)\n",
    "y_pred = compute_sigmoid(y_pred)\n",
    "y_pred[y_pred>0.5] = 1\n",
    "y_pred[y_pred<=0.5] = 0\n",
    "\n",
    "TP = 0\n",
    "FP = 0\n",
    "TN = 0\n",
    "FN = 0\n",
    "for pred in range(len(y_pred)):\n",
    "    if (y_pred[pred] == 1 and y[pred] == 1):\n",
    "        TP+=1\n",
    "    elif (y_pred[pred] == 1 and y[pred] == 0):\n",
    "        FP+=1\n",
    "    elif (y_pred[pred] == 0 and y[pred] == 1):\n",
    "        FN+=1\n",
    "    else :\n",
    "        TN+=1\n",
    "acc = (TP+TN)/len(y_pred)\n",
    "if TP + FP == 0:\n",
    "    prec = 0  # Avoid division by zero\n",
    "else:\n",
    "    prec = TP / (TP + FP)\n",
    "\n",
    "\n",
    "if TP + FN == 0:\n",
    "    rec = 0  # Avoid division by zero\n",
    "else:\n",
    "    rec = TP / (TP + FN)\n",
    "\n",
    "\n",
    "if prec + rec == 0:\n",
    "    F1score = 0  # Avoid division by zero\n",
    "else:\n",
    "    F1score = 2 * prec * rec / (prec + rec)\n",
    "\n",
    "\n",
    "if acc > 0.75 :\n",
    "    w_s.append(w)\n",
    "\n",
    "accs.append(acc)\n",
    "precs.append(prec)\n",
    "recs.append(recs)\n",
    "F1s.append(F1score)\n",
    "conf_matrix = np.array([[TP, FP], [FN, TN]])\n",
    "        \n",
    "w_s = np.asarray(w_s)\n",
    "print(\"lambda = \",lambda_,\"| Accuracy moyenne :\",np.mean(accs),\"| Acc>0.75 :\",w_s.shape[0])\n",
    "print(accs)\n",
    "\n"
   ]
  },
  {
   "cell_type": "code",
   "execution_count": null,
   "metadata": {},
   "outputs": [
    {
     "ename": "ValueError",
     "evalue": "x and y must have same first dimension, but have shapes (100,) and (1,)",
     "output_type": "error",
     "traceback": [
      "\u001b[1;31m---------------------------------------------------------------------------\u001b[0m",
      "\u001b[1;31mValueError\u001b[0m                                Traceback (most recent call last)",
      "\u001b[1;32mc:\\Users\\jonas\\EPFL\\MA2\\ML_Project1\\run.ipynb Cell 15\u001b[0m line \u001b[0;36m2\n\u001b[0;32m      <a href='vscode-notebook-cell:/c%3A/Users/jonas/EPFL/MA2/ML_Project1/run.ipynb#X20sZmlsZQ%3D%3D?line=0'>1</a>\u001b[0m plt\u001b[39m.\u001b[39mfigure()\n\u001b[1;32m----> <a href='vscode-notebook-cell:/c%3A/Users/jonas/EPFL/MA2/ML_Project1/run.ipynb#X20sZmlsZQ%3D%3D?line=1'>2</a>\u001b[0m plt\u001b[39m.\u001b[39;49mplot(np\u001b[39m.\u001b[39;49mlinspace(\u001b[39m0\u001b[39;49m, max_iters, max_iters), accs)\n\u001b[0;32m      <a href='vscode-notebook-cell:/c%3A/Users/jonas/EPFL/MA2/ML_Project1/run.ipynb#X20sZmlsZQ%3D%3D?line=2'>3</a>\u001b[0m plt\u001b[39m.\u001b[39mxlabel(\u001b[39m\"\u001b[39m\u001b[39mIterations\u001b[39m\u001b[39m\"\u001b[39m)\n\u001b[0;32m      <a href='vscode-notebook-cell:/c%3A/Users/jonas/EPFL/MA2/ML_Project1/run.ipynb#X20sZmlsZQ%3D%3D?line=3'>4</a>\u001b[0m plt\u001b[39m.\u001b[39mylabel(\u001b[39m\"\u001b[39m\u001b[39mAccuracy\u001b[39m\u001b[39m\"\u001b[39m)\n",
      "File \u001b[1;32mc:\\Users\\jonas\\anaconda3\\envs\\CIVIL-459\\lib\\site-packages\\matplotlib\\pyplot.py:2785\u001b[0m, in \u001b[0;36mplot\u001b[1;34m(scalex, scaley, data, *args, **kwargs)\u001b[0m\n\u001b[0;32m   2783\u001b[0m \u001b[39m@_copy_docstring_and_deprecators\u001b[39m(Axes\u001b[39m.\u001b[39mplot)\n\u001b[0;32m   2784\u001b[0m \u001b[39mdef\u001b[39;00m \u001b[39mplot\u001b[39m(\u001b[39m*\u001b[39margs, scalex\u001b[39m=\u001b[39m\u001b[39mTrue\u001b[39;00m, scaley\u001b[39m=\u001b[39m\u001b[39mTrue\u001b[39;00m, data\u001b[39m=\u001b[39m\u001b[39mNone\u001b[39;00m, \u001b[39m*\u001b[39m\u001b[39m*\u001b[39mkwargs):\n\u001b[1;32m-> 2785\u001b[0m     \u001b[39mreturn\u001b[39;00m gca()\u001b[39m.\u001b[39mplot(\n\u001b[0;32m   2786\u001b[0m         \u001b[39m*\u001b[39margs, scalex\u001b[39m=\u001b[39mscalex, scaley\u001b[39m=\u001b[39mscaley,\n\u001b[0;32m   2787\u001b[0m         \u001b[39m*\u001b[39m\u001b[39m*\u001b[39m({\u001b[39m\"\u001b[39m\u001b[39mdata\u001b[39m\u001b[39m\"\u001b[39m: data} \u001b[39mif\u001b[39;00m data \u001b[39mis\u001b[39;00m \u001b[39mnot\u001b[39;00m \u001b[39mNone\u001b[39;00m \u001b[39melse\u001b[39;00m {}), \u001b[39m*\u001b[39m\u001b[39m*\u001b[39mkwargs)\n",
      "File \u001b[1;32mc:\\Users\\jonas\\anaconda3\\envs\\CIVIL-459\\lib\\site-packages\\matplotlib\\axes\\_axes.py:1688\u001b[0m, in \u001b[0;36mAxes.plot\u001b[1;34m(self, scalex, scaley, data, *args, **kwargs)\u001b[0m\n\u001b[0;32m   1445\u001b[0m \u001b[39m\"\"\"\u001b[39;00m\n\u001b[0;32m   1446\u001b[0m \u001b[39mPlot y versus x as lines and/or markers.\u001b[39;00m\n\u001b[0;32m   1447\u001b[0m \n\u001b[1;32m   (...)\u001b[0m\n\u001b[0;32m   1685\u001b[0m \u001b[39m(``'green'``) or hex strings (``'#008000'``).\u001b[39;00m\n\u001b[0;32m   1686\u001b[0m \u001b[39m\"\"\"\u001b[39;00m\n\u001b[0;32m   1687\u001b[0m kwargs \u001b[39m=\u001b[39m cbook\u001b[39m.\u001b[39mnormalize_kwargs(kwargs, mlines\u001b[39m.\u001b[39mLine2D)\n\u001b[1;32m-> 1688\u001b[0m lines \u001b[39m=\u001b[39m [\u001b[39m*\u001b[39m\u001b[39mself\u001b[39m\u001b[39m.\u001b[39m_get_lines(\u001b[39m*\u001b[39margs, data\u001b[39m=\u001b[39mdata, \u001b[39m*\u001b[39m\u001b[39m*\u001b[39mkwargs)]\n\u001b[0;32m   1689\u001b[0m \u001b[39mfor\u001b[39;00m line \u001b[39min\u001b[39;00m lines:\n\u001b[0;32m   1690\u001b[0m     \u001b[39mself\u001b[39m\u001b[39m.\u001b[39madd_line(line)\n",
      "File \u001b[1;32mc:\\Users\\jonas\\anaconda3\\envs\\CIVIL-459\\lib\\site-packages\\matplotlib\\axes\\_base.py:311\u001b[0m, in \u001b[0;36m_process_plot_var_args.__call__\u001b[1;34m(self, data, *args, **kwargs)\u001b[0m\n\u001b[0;32m    309\u001b[0m     this \u001b[39m+\u001b[39m\u001b[39m=\u001b[39m args[\u001b[39m0\u001b[39m],\n\u001b[0;32m    310\u001b[0m     args \u001b[39m=\u001b[39m args[\u001b[39m1\u001b[39m:]\n\u001b[1;32m--> 311\u001b[0m \u001b[39myield from\u001b[39;00m \u001b[39mself\u001b[39;49m\u001b[39m.\u001b[39;49m_plot_args(\n\u001b[0;32m    312\u001b[0m     this, kwargs, ambiguous_fmt_datakey\u001b[39m=\u001b[39;49mambiguous_fmt_datakey)\n",
      "File \u001b[1;32mc:\\Users\\jonas\\anaconda3\\envs\\CIVIL-459\\lib\\site-packages\\matplotlib\\axes\\_base.py:504\u001b[0m, in \u001b[0;36m_process_plot_var_args._plot_args\u001b[1;34m(self, tup, kwargs, return_kwargs, ambiguous_fmt_datakey)\u001b[0m\n\u001b[0;32m    501\u001b[0m     \u001b[39mself\u001b[39m\u001b[39m.\u001b[39maxes\u001b[39m.\u001b[39myaxis\u001b[39m.\u001b[39mupdate_units(y)\n\u001b[0;32m    503\u001b[0m \u001b[39mif\u001b[39;00m x\u001b[39m.\u001b[39mshape[\u001b[39m0\u001b[39m] \u001b[39m!=\u001b[39m y\u001b[39m.\u001b[39mshape[\u001b[39m0\u001b[39m]:\n\u001b[1;32m--> 504\u001b[0m     \u001b[39mraise\u001b[39;00m \u001b[39mValueError\u001b[39;00m(\u001b[39mf\u001b[39m\u001b[39m\"\u001b[39m\u001b[39mx and y must have same first dimension, but \u001b[39m\u001b[39m\"\u001b[39m\n\u001b[0;32m    505\u001b[0m                      \u001b[39mf\u001b[39m\u001b[39m\"\u001b[39m\u001b[39mhave shapes \u001b[39m\u001b[39m{\u001b[39;00mx\u001b[39m.\u001b[39mshape\u001b[39m}\u001b[39;00m\u001b[39m and \u001b[39m\u001b[39m{\u001b[39;00my\u001b[39m.\u001b[39mshape\u001b[39m}\u001b[39;00m\u001b[39m\"\u001b[39m)\n\u001b[0;32m    506\u001b[0m \u001b[39mif\u001b[39;00m x\u001b[39m.\u001b[39mndim \u001b[39m>\u001b[39m \u001b[39m2\u001b[39m \u001b[39mor\u001b[39;00m y\u001b[39m.\u001b[39mndim \u001b[39m>\u001b[39m \u001b[39m2\u001b[39m:\n\u001b[0;32m    507\u001b[0m     \u001b[39mraise\u001b[39;00m \u001b[39mValueError\u001b[39;00m(\u001b[39mf\u001b[39m\u001b[39m\"\u001b[39m\u001b[39mx and y can be no greater than 2D, but have \u001b[39m\u001b[39m\"\u001b[39m\n\u001b[0;32m    508\u001b[0m                      \u001b[39mf\u001b[39m\u001b[39m\"\u001b[39m\u001b[39mshapes \u001b[39m\u001b[39m{\u001b[39;00mx\u001b[39m.\u001b[39mshape\u001b[39m}\u001b[39;00m\u001b[39m and \u001b[39m\u001b[39m{\u001b[39;00my\u001b[39m.\u001b[39mshape\u001b[39m}\u001b[39;00m\u001b[39m\"\u001b[39m)\n",
      "\u001b[1;31mValueError\u001b[0m: x and y must have same first dimension, but have shapes (100,) and (1,)"
     ]
    },
    {
     "data": {
      "image/png": "[encoded data removed]",
      "text/plain": [
       "<Figure size 640x480 with 1 Axes>"
      ]
     },
     "metadata": {},
     "output_type": "display_data"
    }
   ],
   "source": [
    "plt.figure()\n",
    "plt.plot(np.linspace(0, max_iters, max_iters), accs)\n",
    "plt.xlabel(\"Iterations\")\n",
    "plt.ylabel(\"Accuracy\")\n",
    "plt.show()"
   ]
  },
  {
   "cell_type": "code",
   "execution_count": null,
   "metadata": {},
   "outputs": [],
   "source": []
  }
 ],
 "metadata": {
  "kernelspec": {
   "display_name": "CIVIL-459",
   "language": "python",
   "name": "python3"
  },
  "language_info": {
   "codemirror_mode": {
    "name": "ipython",
    "version": 3
   },
   "file_extension": ".py",
   "mimetype": "text/x-python",
   "name": "python",
   "nbconvert_exporter": "python",
   "pygments_lexer": "ipython3",
   "version": "3.10.6"
  }
 },
 "nbformat": 4,
 "nbformat_minor": 2
}
