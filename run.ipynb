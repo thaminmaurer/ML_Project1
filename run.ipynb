{
 "cells": [
  {
   "cell_type": "markdown",
   "metadata": {},
   "source": [
    "# CS-433 Machine learning project 1"
   ]
  },
  {
   "cell_type": "code",
   "execution_count": 14,
   "metadata": {},
   "outputs": [],
   "source": [
    "import numpy as np\n",
    "import matplotlib.pyplot as plt\n",
    "import helpers\n",
    "import functions"
   ]
  },
  {
   "cell_type": "code",
   "execution_count": 2,
   "metadata": {},
   "outputs": [],
   "source": [
    "x_train = np.genfromtxt(\"data/dataset/x_train.csv\", delimiter=',', skip_header=1)\n",
    "y_train = np.genfromtxt(\"data/dataset/y_train.csv\", delimiter=',', skip_header=1)\n",
    "x_test =  np.genfromtxt(\"data/dataset/x_test.csv\", delimiter=',', skip_header=1)"
   ]
  },
  {
   "cell_type": "code",
   "execution_count": 3,
   "metadata": {},
   "outputs": [
    {
     "name": "stdout",
     "output_type": "stream",
     "text": [
      "[2015. 2015. 2015. ... 2015. 2015. 2015.]\n",
      "float64\n",
      "False\n",
      "139415\n"
     ]
    }
   ],
   "source": [
    "print(x_train[:,5])\n",
    "print(x_train[0,5].dtype)\n",
    "print(np.isnan(x_train[0,5]))\n",
    "print(np.sum(np.isnan(x_train[:,10])))"
   ]
  },
  {
   "cell_type": "markdown",
   "metadata": {},
   "source": [
    "Nan handling"
   ]
  },
  {
   "cell_type": "code",
   "execution_count": 4,
   "metadata": {},
   "outputs": [
    {
     "name": "stdout",
     "output_type": "stream",
     "text": [
      "[     0      0      0      0      0      0      0      0      0 139415\n",
      " 139415 328103 139416 139415 328103 139433 139524 139525 188720 188720\n",
      " 188721 188720 327334 188719 189287 192544      2      1      0 159860\n",
      "      0      0      1      1      1 196334      0  43801  43801      0\n",
      "      0 284153      1      0      0      1      0      0      5 285915\n",
      "      0      0      0      0 139415 318245 139415      1      0      3\n",
      "   2471   3207   3946   4407 279663   6933   7743   8293   8728   9149\n",
      "   9432   9862  10541 191379 282510 237369  11007  11765 170906 171212\n",
      " 171522  20738  21567  22468  23149  23759  24502  26205 107829 109141\n",
      " 109407 109690 181261 181400  28647 226907 227043 227197 229088  29911\n",
      "  30600 186763 186001  31022  32080 243418 243561 266689 266689 306425\n",
      " 306426 306428 306429 306429 306629 306429 306430 306430 247299 310302\n",
      " 310320 310346 310367 310392 310403 310450 265347 325762 325769 325769\n",
      " 327339 326264 325775 325777 325777 325780 241493 318477 318489 325051\n",
      " 318505 318515 297518 309300 297543 327354 327645 327907 327907 327648\n",
      " 327648 327649 327793 327650 327650 327362 327618 314089 318284 323942\n",
      " 323941 323942 313550 313560 313564 313572 298044 320046 327036 307336\n",
      " 311136 314308 311142 312277 311151 322950 311321 323914 324421 287897\n",
      " 313435 287921 298973 298976 323261 323267 323272 323272 325495 325498\n",
      " 327539 327956 276513 273642 302161 302172 309175 299744 203924 203990\n",
      " 283588 283743 289046 323324 313056 313066 312994 313007 313014 313018\n",
      " 313027 313032 313044 313055 313067 313074      0     14 142438      0\n",
      "     22      0      0  90436 279532 279532 283603      0 123084      0\n",
      "      0      0      0      0  43801      0      0      0   1883      0\n",
      "      0      0      0      0      0   5438      0      0      0      0\n",
      "  12721  11368  23006  27073  27073      0      0      0      0      0\n",
      "      0      0      0      0      0      0  28366  26927  29382  27893\n",
      "  28958  30593      0      0      0      0  32115  37605      0      0\n",
      "      0      0      0      0      0 108727 112425      0      0 111072\n",
      " 114698 113793 184643 111257 182913 115152 116821  32496      0 117355\n",
      " 119004 112859 113785 117012 111793      0      0      0      0      0\n",
      "      0      0      0   1883   1883   1883      0      0 211378 211378\n",
      "  32080]\n",
      "146965.04361370715\n",
      "(321,)\n",
      "321\n"
     ]
    }
   ],
   "source": [
    "\n",
    "#calculate number number of nan per column\n",
    "logical_matrix = np.isnan(x_train)\n",
    "nan_per_columns = np.sum(logical_matrix, axis=0)\n",
    "print(nan_per_columns)\n",
    "average_nan = np.mean(nan_per_columns)\n",
    "print(average_nan)\n",
    "print(np.shape(nan_per_columns))\n",
    "print(np.shape(x_train)[1])"
   ]
  },
  {
   "cell_type": "code",
   "execution_count": 5,
   "metadata": {},
   "outputs": [],
   "source": [
    "# delet the columns with more nan than the average\n",
    "x_train_reduced_features = x_train[:, nan_per_columns <= average_nan]\n",
    "\n",
    "\n"
   ]
  },
  {
   "cell_type": "code",
   "execution_count": 6,
   "metadata": {},
   "outputs": [
    {
     "name": "stdout",
     "output_type": "stream",
     "text": [
      "(328135, 321)\n"
     ]
    }
   ],
   "source": [
    "print(np.shape(x_train))"
   ]
  },
  {
   "cell_type": "code",
   "execution_count": 7,
   "metadata": {},
   "outputs": [
    {
     "name": "stdout",
     "output_type": "stream",
     "text": [
      "[0 0 0 0 0 0 0 0 0 0 0 0 0 0 0 0 0 0 0 0 0 0 0 0 0 0 0 0 0 0 0 0 0 0 0 0 0\n",
      " 0 0 0 0 0 0 0 0 0 0 0 0 0 0 0 0 0 0 0 0 0 0 0 0 0 0 0 0 0 0 0 0 0 0 0 0 0\n",
      " 0 0 0 0 0 0 0 0 0 0 0 0 0 0 0 0 0 0 0 0 0 0 0 0 0 0 0 0 0 0 0 0 0 0 0 0 0\n",
      " 0 0 0 0 0 0 0 0 0 0 0 0 0 0 0 0 0 0 0 0 0 0 0 0 0 0 0 0 0 0 0 0 0 0 0 0 0\n",
      " 0 0 0 0 0 0 0 0 0 0 0 0 0 0 0 0 0 0 0 0 0 0 0 0 0 0 0 0 0 0 0 0 0 0 0 0 0\n",
      " 0 0 0 0 0 0 0 0 0 0 0 0 0 0 0 0 0 0 0 0 0 0 0 0 0 0 0 0 0 0 0 0 0 0 0 0 0\n",
      " 0 0 0 0 0 0 0 0 0 0 0 0 0 0 0 0 0 0 0 0 0 0 0 0 0 0 0 0 0 0 0 0 0 0 0 0 0\n",
      " 0 0 0 0 0 0 0 0 0 0 0 0 0 0 0 0 0 0 0 0 0 0 0 0 0 0 0 0 0 0 0 0 0 0 0 0 0\n",
      " 0 0 0 0 0 0 0 0 0 0 0 0 0 0 0 0 0 0 0 0 0 0 0 0 0]\n"
     ]
    }
   ],
   "source": [
    "#replace nan values with the mean:\n",
    "x_train_w_mean = x_train\n",
    "for i in range( np.shape(x_train)[1]):\n",
    "    nan_entries = np.isnan(x_train[:,i])\n",
    "    mean = np.mean(x_train[~nan_entries,i])\n",
    "\n",
    "    nan_entries = np.isnan(x_train[:,i])\n",
    "\n",
    "    x_train_w_mean[nan_entries, i] = mean\n",
    "    \n",
    "logical_matrix = np.isnan(x_train_w_mean)\n",
    "nan_per_columns2 = np.sum(logical_matrix, axis=0)\n",
    "print(nan_per_columns2)\n",
    "\n",
    "\n",
    "\n"
   ]
  },
  {
   "cell_type": "code",
   "execution_count": 19,
   "metadata": {},
   "outputs": [
    {
     "name": "stdout",
     "output_type": "stream",
     "text": [
      "/bin/python3\n"
     ]
    },
    {
     "ename": "NameError",
     "evalue": "name 'np' is not defined",
     "output_type": "error",
     "traceback": [
      "\u001b[0;31m---------------------------------------------------------------------------\u001b[0m",
      "\u001b[0;31mNameError\u001b[0m                                 Traceback (most recent call last)",
      "\u001b[1;32m/mnt/c/Users/thami/OneDrive/Dokumente/EPFL/Master/3_Semester/ML/ML_Project1/run.ipynb Cell 10\u001b[0m line \u001b[0;36m1\n\u001b[1;32m     <a href='vscode-notebook-cell://wsl%2Bubuntu/mnt/c/Users/thami/OneDrive/Dokumente/EPFL/Master/3_Semester/ML/ML_Project1/run.ipynb#X12sdnNjb2RlLXJlbW90ZQ%3D%3D?line=11'>12</a>\u001b[0m \u001b[39mimport\u001b[39;00m \u001b[39msys\u001b[39;00m\n\u001b[1;32m     <a href='vscode-notebook-cell://wsl%2Bubuntu/mnt/c/Users/thami/OneDrive/Dokumente/EPFL/Master/3_Semester/ML/ML_Project1/run.ipynb#X12sdnNjb2RlLXJlbW90ZQ%3D%3D?line=12'>13</a>\u001b[0m \u001b[39mprint\u001b[39m(sys\u001b[39m.\u001b[39mexecutable)\n\u001b[0;32m---> <a href='vscode-notebook-cell://wsl%2Bubuntu/mnt/c/Users/thami/OneDrive/Dokumente/EPFL/Master/3_Semester/ML/ML_Project1/run.ipynb#X12sdnNjb2RlLXJlbW90ZQ%3D%3D?line=14'>15</a>\u001b[0m x_train_std, _, _, \u001b[39m=\u001b[39m functions\u001b[39m.\u001b[39;49mstandardize(x_train_w_mean)\n",
      "File \u001b[0;32m/mnt/c/Users/thami/OneDrive/Dokumente/EPFL/Master/3_Semester/ML/ML_Project1/functions.py:4\u001b[0m, in \u001b[0;36mstandardize\u001b[0;34m(x)\u001b[0m\n\u001b[1;32m      2\u001b[0m \u001b[39mdef\u001b[39;00m \u001b[39mstandardize\u001b[39m(x):\n\u001b[1;32m      3\u001b[0m     \u001b[39m\"\"\"Standardize the original data set.\"\"\"\u001b[39;00m\n\u001b[0;32m----> 4\u001b[0m     mean_x \u001b[39m=\u001b[39m np\u001b[39m.\u001b[39mmean(x, axis\u001b[39m=\u001b[39m\u001b[39m0\u001b[39m)\n\u001b[1;32m      5\u001b[0m     \u001b[39mprint\u001b[39m(np\u001b[39m.\u001b[39mshape(mean_x))\n\u001b[1;32m      6\u001b[0m     x \u001b[39m=\u001b[39m x \u001b[39m-\u001b[39m mean_x\n",
      "\u001b[0;31mNameError\u001b[0m: name 'np' is not defined"
     ]
    }
   ],
   "source": [
    "'''### standardize\n",
    "def standardize(x):\n",
    "    \"\"\"Standardize the original data set.\"\"\"\n",
    "    mean_x = np.mean(x, axis=0)\n",
    "    print(np.shape(mean_x))\n",
    "    x = x - mean_x\n",
    "    std_x = np.std(x, axis=0)\n",
    "    print(np.shape(std_x))\n",
    "    x = x / (std_x+1e-12) ### the small term is to deal with the division by zero \n",
    "    return x, mean_x, std_x'''\n",
    "\n",
    "x_train_std, _, _, = functions.standardize(x_train_w_mean)\n"
   ]
  },
  {
   "cell_type": "code",
   "execution_count": null,
   "metadata": {},
   "outputs": [],
   "source": [
    "\n",
    "\n",
    "\n",
    "\n"
   ]
  },
  {
   "cell_type": "code",
   "execution_count": null,
   "metadata": {},
   "outputs": [],
   "source": []
  },
  {
   "cell_type": "code",
   "execution_count": null,
   "metadata": {},
   "outputs": [],
   "source": []
  },
  {
   "cell_type": "code",
   "execution_count": null,
   "metadata": {},
   "outputs": [],
   "source": []
  }
 ],
 "metadata": {
  "kernelspec": {
   "display_name": "CIVIL-459",
   "language": "python",
   "name": "python3"
  },
  "language_info": {
   "codemirror_mode": {
    "name": "ipython",
    "version": 3
   },
   "file_extension": ".py",
   "mimetype": "text/x-python",
   "name": "python",
   "nbconvert_exporter": "python",
   "pygments_lexer": "ipython3",
   "version": "3.10.6"
  }
 },
 "nbformat": 4,
 "nbformat_minor": 2
}
